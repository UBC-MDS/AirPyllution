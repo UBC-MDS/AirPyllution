{
 "cells": [
  {
   "cell_type": "markdown",
   "metadata": {},
   "source": [
    "# Example usage\n",
    "\n",
    "Here we will demonstrate how to use `airpyllution` to create a map with markers indicating current air pollution levels, tabulate historical air pollution data, and plot forecasted air pollution data.\n",
    "\n",
    "The air pollution data is obtained from https://openweathermap.org/ and includes the pollution concentrations for carbon monoxide (CO), nitrogen monoxide (NO), nitrogen dioxide (NO<sub>2</sub>), ozone (O<sub>3</sub>), sulphur dioxide (SO<sub>2</sub>), ammonia (NH<sub>3</sub>), 2.5 micrometer particulate matter (PM<sub>2.5</sub>), and 10 micrometer particulate matter (PM<sub>10</sub>)."
   ]
  },
  {
   "cell_type": "markdown",
   "metadata": {},
   "source": [
    "<br>\n",
    "\n",
    "# Imports"
   ]
  },
  {
   "cell_type": "code",
   "execution_count": 1,
   "metadata": {},
   "outputs": [],
   "source": [
    "from airpyllution.airpyllution import get_air_pollution\n",
    "from airpyllution.airpyllution import get_pollution_history\n",
    "from airpyllution.airpyllution import get_pollution_forecast"
   ]
  },
  {
   "cell_type": "markdown",
   "metadata": {},
   "source": [
    "<br>\n",
    "\n",
    "# Plot current air pollution\n",
    "\n",
    "We'll plot the current air pollution levels in Vancouver, BC by inputting the city's latitude and longitude values into the function, as well as your OpenWeatherMap API key, and an optional title. Double-click on a pollutant in the legend to isolate it on the map. Hover over the pollutant's marker to view its concentration.\n",
    "\n",
    "**Note: Due to software limitations, the interactive version of the map is not available on readthedocs.**"
   ]
  },
  {
   "cell_type": "code",
   "execution_count": 2,
   "metadata": {
    "tags": [
     "remove-input"
    ]
   },
   "outputs": [],
   "source": [
    "key_file = open(\"keys.txt\")\n",
    "api_key = key_file.readline().rstrip()"
   ]
  },
  {
   "cell_type": "code",
   "execution_count": 3,
   "metadata": {},
   "outputs": [],
   "source": [
    "lat, lon = 49.2497, -123.1193\n",
    "\n",
    "pollution_map = get_air_pollution(lat, lon, api_key, \"Current Air Pollution\")"
   ]
  },
  {
   "cell_type": "markdown",
   "metadata": {},
   "source": [
    "pollution_map.show()"
   ]
  },
  {
   "cell_type": "markdown",
   "metadata": {},
   "source": [
    "![](air-pollution-map.png)"
   ]
  },
  {
   "cell_type": "markdown",
   "metadata": {},
   "source": [
    "<br>\n",
    "\n",
    "# Obtain historical air pollution data"
   ]
  },
  {
   "cell_type": "markdown",
   "metadata": {},
   "source": [
    "Hourly historical pollution data can be tabulated from November 27th 2020. The start and end date must be entered in unix time, UTC time zone format; followed by the latitude and longitude of the location of interest, and finally your API key."
   ]
  },
  {
   "cell_type": "code",
   "execution_count": 4,
   "metadata": {},
   "outputs": [
    {
     "data": {
      "text/html": [
       "<div>\n",
       "<style scoped>\n",
       "    .dataframe tbody tr th:only-of-type {\n",
       "        vertical-align: middle;\n",
       "    }\n",
       "\n",
       "    .dataframe tbody tr th {\n",
       "        vertical-align: top;\n",
       "    }\n",
       "\n",
       "    .dataframe thead th {\n",
       "        text-align: right;\n",
       "    }\n",
       "</style>\n",
       "<table border=\"1\" class=\"dataframe\">\n",
       "  <thead>\n",
       "    <tr style=\"text-align: right;\">\n",
       "      <th></th>\n",
       "      <th>co</th>\n",
       "      <th>no</th>\n",
       "      <th>no2</th>\n",
       "      <th>o3</th>\n",
       "      <th>so2</th>\n",
       "      <th>pm2_5</th>\n",
       "      <th>pm10</th>\n",
       "      <th>nh3</th>\n",
       "      <th>dt</th>\n",
       "    </tr>\n",
       "  </thead>\n",
       "  <tbody>\n",
       "    <tr>\n",
       "      <th>0</th>\n",
       "      <td>260.35</td>\n",
       "      <td>0.02</td>\n",
       "      <td>15.94</td>\n",
       "      <td>40.05</td>\n",
       "      <td>5.36</td>\n",
       "      <td>2.49</td>\n",
       "      <td>4.55</td>\n",
       "      <td>0.59</td>\n",
       "      <td>2020-11-27 15:00:00</td>\n",
       "    </tr>\n",
       "    <tr>\n",
       "      <th>1</th>\n",
       "      <td>287.06</td>\n",
       "      <td>0.03</td>\n",
       "      <td>19.71</td>\n",
       "      <td>39.70</td>\n",
       "      <td>6.32</td>\n",
       "      <td>2.54</td>\n",
       "      <td>4.71</td>\n",
       "      <td>0.85</td>\n",
       "      <td>2020-11-27 16:00:00</td>\n",
       "    </tr>\n",
       "    <tr>\n",
       "      <th>2</th>\n",
       "      <td>290.39</td>\n",
       "      <td>0.03</td>\n",
       "      <td>20.05</td>\n",
       "      <td>43.27</td>\n",
       "      <td>6.74</td>\n",
       "      <td>2.48</td>\n",
       "      <td>4.61</td>\n",
       "      <td>0.90</td>\n",
       "      <td>2020-11-27 17:00:00</td>\n",
       "    </tr>\n",
       "    <tr>\n",
       "      <th>3</th>\n",
       "      <td>277.04</td>\n",
       "      <td>0.09</td>\n",
       "      <td>18.85</td>\n",
       "      <td>46.49</td>\n",
       "      <td>6.80</td>\n",
       "      <td>2.49</td>\n",
       "      <td>4.69</td>\n",
       "      <td>0.86</td>\n",
       "      <td>2020-11-27 18:00:00</td>\n",
       "    </tr>\n",
       "    <tr>\n",
       "      <th>4</th>\n",
       "      <td>263.69</td>\n",
       "      <td>0.12</td>\n",
       "      <td>16.62</td>\n",
       "      <td>49.35</td>\n",
       "      <td>5.90</td>\n",
       "      <td>2.42</td>\n",
       "      <td>4.56</td>\n",
       "      <td>0.71</td>\n",
       "      <td>2020-11-27 19:00:00</td>\n",
       "    </tr>\n",
       "    <tr>\n",
       "      <th>...</th>\n",
       "      <td>...</td>\n",
       "      <td>...</td>\n",
       "      <td>...</td>\n",
       "      <td>...</td>\n",
       "      <td>...</td>\n",
       "      <td>...</td>\n",
       "      <td>...</td>\n",
       "      <td>...</td>\n",
       "      <td>...</td>\n",
       "    </tr>\n",
       "    <tr>\n",
       "      <th>67</th>\n",
       "      <td>260.35</td>\n",
       "      <td>0.00</td>\n",
       "      <td>12.68</td>\n",
       "      <td>60.08</td>\n",
       "      <td>3.87</td>\n",
       "      <td>1.64</td>\n",
       "      <td>2.36</td>\n",
       "      <td>0.51</td>\n",
       "      <td>2020-11-30 10:00:00</td>\n",
       "    </tr>\n",
       "    <tr>\n",
       "      <th>68</th>\n",
       "      <td>247.00</td>\n",
       "      <td>0.00</td>\n",
       "      <td>9.94</td>\n",
       "      <td>63.66</td>\n",
       "      <td>3.52</td>\n",
       "      <td>1.81</td>\n",
       "      <td>2.27</td>\n",
       "      <td>0.41</td>\n",
       "      <td>2020-11-30 11:00:00</td>\n",
       "    </tr>\n",
       "    <tr>\n",
       "      <th>69</th>\n",
       "      <td>240.33</td>\n",
       "      <td>0.00</td>\n",
       "      <td>8.65</td>\n",
       "      <td>63.66</td>\n",
       "      <td>2.95</td>\n",
       "      <td>2.14</td>\n",
       "      <td>2.45</td>\n",
       "      <td>0.32</td>\n",
       "      <td>2020-11-30 12:00:00</td>\n",
       "    </tr>\n",
       "    <tr>\n",
       "      <th>70</th>\n",
       "      <td>236.99</td>\n",
       "      <td>0.00</td>\n",
       "      <td>7.37</td>\n",
       "      <td>67.23</td>\n",
       "      <td>2.38</td>\n",
       "      <td>2.06</td>\n",
       "      <td>2.32</td>\n",
       "      <td>0.25</td>\n",
       "      <td>2020-11-30 13:00:00</td>\n",
       "    </tr>\n",
       "    <tr>\n",
       "      <th>71</th>\n",
       "      <td>230.31</td>\n",
       "      <td>0.00</td>\n",
       "      <td>6.26</td>\n",
       "      <td>72.96</td>\n",
       "      <td>2.09</td>\n",
       "      <td>1.70</td>\n",
       "      <td>2.03</td>\n",
       "      <td>0.23</td>\n",
       "      <td>2020-11-30 14:00:00</td>\n",
       "    </tr>\n",
       "  </tbody>\n",
       "</table>\n",
       "<p>72 rows × 9 columns</p>\n",
       "</div>"
      ],
      "text/plain": [
       "        co    no    no2     o3   so2  pm2_5  pm10   nh3                   dt\n",
       "0   260.35  0.02  15.94  40.05  5.36   2.49  4.55  0.59  2020-11-27 15:00:00\n",
       "1   287.06  0.03  19.71  39.70  6.32   2.54  4.71  0.85  2020-11-27 16:00:00\n",
       "2   290.39  0.03  20.05  43.27  6.74   2.48  4.61  0.90  2020-11-27 17:00:00\n",
       "3   277.04  0.09  18.85  46.49  6.80   2.49  4.69  0.86  2020-11-27 18:00:00\n",
       "4   263.69  0.12  16.62  49.35  5.90   2.42  4.56  0.71  2020-11-27 19:00:00\n",
       "..     ...   ...    ...    ...   ...    ...   ...   ...                  ...\n",
       "67  260.35  0.00  12.68  60.08  3.87   1.64  2.36  0.51  2020-11-30 10:00:00\n",
       "68  247.00  0.00   9.94  63.66  3.52   1.81  2.27  0.41  2020-11-30 11:00:00\n",
       "69  240.33  0.00   8.65  63.66  2.95   2.14  2.45  0.32  2020-11-30 12:00:00\n",
       "70  236.99  0.00   7.37  67.23  2.38   2.06  2.32  0.25  2020-11-30 13:00:00\n",
       "71  230.31  0.00   6.26  72.96  2.09   1.70  2.03  0.23  2020-11-30 14:00:00\n",
       "\n",
       "[72 rows x 9 columns]"
      ]
     },
     "execution_count": 4,
     "metadata": {},
     "output_type": "execute_result"
    }
   ],
   "source": [
    "get_pollution_history(1606488670, 1606747870, lat, lon, api_key)"
   ]
  },
  {
   "cell_type": "markdown",
   "metadata": {},
   "source": [
    "<br>\n",
    "\n",
    "# Plot forecasted air pollution data"
   ]
  },
  {
   "cell_type": "markdown",
   "metadata": {},
   "source": [
    "Hourly pollutant concentrations can be forecasted 5 days into the future. All that is required is the latitude and longitude of the desired location and your API key."
   ]
  },
  {
   "cell_type": "code",
   "execution_count": 5,
   "metadata": {},
   "outputs": [],
   "source": [
    "import altair as alt\n",
    "alt.renderers.enable(\"html\");"
   ]
  },
  {
   "cell_type": "code",
   "execution_count": 6,
   "metadata": {},
   "outputs": [
    {
     "data": {
      "text/html": [
       "\n",
       "<div id=\"altair-viz-a998a92004bf40cda365ad46f38fe796\"></div>\n",
       "<script type=\"text/javascript\">\n",
       "  var VEGA_DEBUG = (typeof VEGA_DEBUG == \"undefined\") ? {} : VEGA_DEBUG;\n",
       "  (function(spec, embedOpt){\n",
       "    let outputDiv = document.currentScript.previousElementSibling;\n",
       "    if (outputDiv.id !== \"altair-viz-a998a92004bf40cda365ad46f38fe796\") {\n",
       "      outputDiv = document.getElementById(\"altair-viz-a998a92004bf40cda365ad46f38fe796\");\n",
       "    }\n",
       "    const paths = {\n",
       "      \"vega\": \"https://cdn.jsdelivr.net/npm//vega@5?noext\",\n",
       "      \"vega-lib\": \"https://cdn.jsdelivr.net/npm//vega-lib?noext\",\n",
       "      \"vega-lite\": \"https://cdn.jsdelivr.net/npm//vega-lite@4.17.0?noext\",\n",
       "      \"vega-embed\": \"https://cdn.jsdelivr.net/npm//vega-embed@6?noext\",\n",
       "    };\n",
       "\n",
       "    function maybeLoadScript(lib, version) {\n",
       "      var key = `${lib.replace(\"-\", \"\")}_version`;\n",
       "      return (VEGA_DEBUG[key] == version) ?\n",
       "        Promise.resolve(paths[lib]) :\n",
       "        new Promise(function(resolve, reject) {\n",
       "          var s = document.createElement('script');\n",
       "          document.getElementsByTagName(\"head\")[0].appendChild(s);\n",
       "          s.async = true;\n",
       "          s.onload = () => {\n",
       "            VEGA_DEBUG[key] = version;\n",
       "            return resolve(paths[lib]);\n",
       "          };\n",
       "          s.onerror = () => reject(`Error loading script: ${paths[lib]}`);\n",
       "          s.src = paths[lib];\n",
       "        });\n",
       "    }\n",
       "\n",
       "    function showError(err) {\n",
       "      outputDiv.innerHTML = `<div class=\"error\" style=\"color:red;\">${err}</div>`;\n",
       "      throw err;\n",
       "    }\n",
       "\n",
       "    function displayChart(vegaEmbed) {\n",
       "      vegaEmbed(outputDiv, spec, embedOpt)\n",
       "        .catch(err => showError(`Javascript Error: ${err.message}<br>This usually means there's a typo in your chart specification. See the javascript console for the full traceback.`));\n",
       "    }\n",
       "\n",
       "    if(typeof define === \"function\" && define.amd) {\n",
       "      requirejs.config({paths});\n",
       "      require([\"vega-embed\"], displayChart, err => showError(`Error loading script: ${err.message}`));\n",
       "    } else {\n",
       "      maybeLoadScript(\"vega\", \"5\")\n",
       "        .then(() => maybeLoadScript(\"vega-lite\", \"4.17.0\"))\n",
       "        .then(() => maybeLoadScript(\"vega-embed\", \"6\"))\n",
       "        .catch(showError)\n",
       "        .then(() => displayChart(vegaEmbed));\n",
       "    }\n",
       "  })({\"config\": {\"view\": {\"continuousWidth\": 400, \"continuousHeight\": 300}, \"title\": {\"anchor\": \"middle\", \"fontSize\": 24}}, \"data\": {\"name\": \"data-76c0839d99c7a1f4372a73a05082cd33\"}, \"facet\": {\"field\": \"Pollutants\", \"type\": \"nominal\"}, \"spec\": {\"mark\": \"line\", \"encoding\": {\"color\": {\"field\": \"Pollutants\", \"type\": \"nominal\"}, \"x\": {\"field\": \"dt\", \"title\": \"date\", \"type\": \"temporal\"}, \"y\": {\"field\": \"Concentration\", \"title\": \"Concentration\", \"type\": \"quantitative\"}}, \"height\": 100, \"width\": 100}, \"columns\": 3, \"resolve\": {\"axis\": {\"x\": \"independent\", \"y\": \"independent\"}, \"scale\": {\"x\": \"independent\", \"y\": \"independent\"}}, \"title\": \"Pollutant concentration for the next 5 days\", \"$schema\": \"https://vega.github.io/schema/vega-lite/v4.17.0.json\", \"datasets\": {\"data-76c0839d99c7a1f4372a73a05082cd33\": [{\"dt\": \"2022-01-29T18:00:00\", \"Pollutants\": \"co\", \"Concentration\": 377.18}, {\"dt\": \"2022-01-29T19:00:00\", \"Pollutants\": \"co\", \"Concentration\": 373.84}, {\"dt\": \"2022-01-29T20:00:00\", \"Pollutants\": \"co\", \"Concentration\": 403.88}, {\"dt\": \"2022-01-29T21:00:00\", \"Pollutants\": \"co\", \"Concentration\": 423.91}, {\"dt\": \"2022-01-29T22:00:00\", \"Pollutants\": \"co\", \"Concentration\": 413.9}, {\"dt\": \"2022-01-29T23:00:00\", \"Pollutants\": \"co\", \"Concentration\": 400.54}, {\"dt\": \"2022-01-30T00:00:00\", \"Pollutants\": \"co\", \"Concentration\": 390.53}, {\"dt\": \"2022-01-30T01:00:00\", \"Pollutants\": \"co\", \"Concentration\": 360.49}, {\"dt\": \"2022-01-30T02:00:00\", \"Pollutants\": \"co\", \"Concentration\": 330.45}, {\"dt\": \"2022-01-30T03:00:00\", \"Pollutants\": \"co\", \"Concentration\": 313.76}, {\"dt\": \"2022-01-30T04:00:00\", \"Pollutants\": \"co\", \"Concentration\": 303.75}, {\"dt\": \"2022-01-30T05:00:00\", \"Pollutants\": \"co\", \"Concentration\": 293.73}, {\"dt\": \"2022-01-30T06:00:00\", \"Pollutants\": \"co\", \"Concentration\": 287.06}, {\"dt\": \"2022-01-30T07:00:00\", \"Pollutants\": \"co\", \"Concentration\": 287.06}, {\"dt\": \"2022-01-30T08:00:00\", \"Pollutants\": \"co\", \"Concentration\": 290.39}, {\"dt\": \"2022-01-30T09:00:00\", \"Pollutants\": \"co\", \"Concentration\": 290.39}, {\"dt\": \"2022-01-30T10:00:00\", \"Pollutants\": \"co\", \"Concentration\": 290.39}, {\"dt\": \"2022-01-30T11:00:00\", \"Pollutants\": \"co\", \"Concentration\": 287.06}, {\"dt\": \"2022-01-30T12:00:00\", \"Pollutants\": \"co\", \"Concentration\": 287.06}, {\"dt\": \"2022-01-30T13:00:00\", \"Pollutants\": \"co\", \"Concentration\": 280.38}, {\"dt\": \"2022-01-30T14:00:00\", \"Pollutants\": \"co\", \"Concentration\": 280.38}, {\"dt\": \"2022-01-30T15:00:00\", \"Pollutants\": \"co\", \"Concentration\": 290.39}, {\"dt\": \"2022-01-30T16:00:00\", \"Pollutants\": \"co\", \"Concentration\": 313.76}, {\"dt\": \"2022-01-30T17:00:00\", \"Pollutants\": \"co\", \"Concentration\": 333.79}, {\"dt\": \"2022-01-30T18:00:00\", \"Pollutants\": \"co\", \"Concentration\": 343.8}, {\"dt\": \"2022-01-30T19:00:00\", \"Pollutants\": \"co\", \"Concentration\": 377.18}, {\"dt\": \"2022-01-30T20:00:00\", \"Pollutants\": \"co\", \"Concentration\": 440.6}, {\"dt\": \"2022-01-30T21:00:00\", \"Pollutants\": \"co\", \"Concentration\": 507.36}, {\"dt\": \"2022-01-30T22:00:00\", \"Pollutants\": \"co\", \"Concentration\": 527.38}, {\"dt\": \"2022-01-30T23:00:00\", \"Pollutants\": \"co\", \"Concentration\": 433.92}, {\"dt\": \"2022-01-31T00:00:00\", \"Pollutants\": \"co\", \"Concentration\": 317.1}, {\"dt\": \"2022-01-31T01:00:00\", \"Pollutants\": \"co\", \"Concentration\": 287.06}, {\"dt\": \"2022-01-31T02:00:00\", \"Pollutants\": \"co\", \"Concentration\": 270.37}, {\"dt\": \"2022-01-31T03:00:00\", \"Pollutants\": \"co\", \"Concentration\": 260.35}, {\"dt\": \"2022-01-31T04:00:00\", \"Pollutants\": \"co\", \"Concentration\": 260.35}, {\"dt\": \"2022-01-31T05:00:00\", \"Pollutants\": \"co\", \"Concentration\": 257.02}, {\"dt\": \"2022-01-31T06:00:00\", \"Pollutants\": \"co\", \"Concentration\": 260.35}, {\"dt\": \"2022-01-31T07:00:00\", \"Pollutants\": \"co\", \"Concentration\": 263.69}, {\"dt\": \"2022-01-31T08:00:00\", \"Pollutants\": \"co\", \"Concentration\": 263.69}, {\"dt\": \"2022-01-31T09:00:00\", \"Pollutants\": \"co\", \"Concentration\": 263.69}, {\"dt\": \"2022-01-31T10:00:00\", \"Pollutants\": \"co\", \"Concentration\": 267.03}, {\"dt\": \"2022-01-31T11:00:00\", \"Pollutants\": \"co\", \"Concentration\": 270.37}, {\"dt\": \"2022-01-31T12:00:00\", \"Pollutants\": \"co\", \"Concentration\": 273.71}, {\"dt\": \"2022-01-31T13:00:00\", \"Pollutants\": \"co\", \"Concentration\": 280.38}, {\"dt\": \"2022-01-31T14:00:00\", \"Pollutants\": \"co\", \"Concentration\": 287.06}, {\"dt\": \"2022-01-31T15:00:00\", \"Pollutants\": \"co\", \"Concentration\": 303.75}, {\"dt\": \"2022-01-31T16:00:00\", \"Pollutants\": \"co\", \"Concentration\": 343.8}, {\"dt\": \"2022-01-31T17:00:00\", \"Pollutants\": \"co\", \"Concentration\": 370.5}, {\"dt\": \"2022-01-31T18:00:00\", \"Pollutants\": \"co\", \"Concentration\": 367.17}, {\"dt\": \"2022-01-31T19:00:00\", \"Pollutants\": \"co\", \"Concentration\": 357.15}, {\"dt\": \"2022-01-31T20:00:00\", \"Pollutants\": \"co\", \"Concentration\": 340.46}, {\"dt\": \"2022-01-31T21:00:00\", \"Pollutants\": \"co\", \"Concentration\": 327.11}, {\"dt\": \"2022-01-31T22:00:00\", \"Pollutants\": \"co\", \"Concentration\": 303.75}, {\"dt\": \"2022-01-31T23:00:00\", \"Pollutants\": \"co\", \"Concentration\": 293.73}, {\"dt\": \"2022-02-01T00:00:00\", \"Pollutants\": \"co\", \"Concentration\": 297.07}, {\"dt\": \"2022-02-01T01:00:00\", \"Pollutants\": \"co\", \"Concentration\": 310.42}, {\"dt\": \"2022-02-01T02:00:00\", \"Pollutants\": \"co\", \"Concentration\": 320.44}, {\"dt\": \"2022-02-01T03:00:00\", \"Pollutants\": \"co\", \"Concentration\": 320.44}, {\"dt\": \"2022-02-01T04:00:00\", \"Pollutants\": \"co\", \"Concentration\": 320.44}, {\"dt\": \"2022-02-01T05:00:00\", \"Pollutants\": \"co\", \"Concentration\": 323.77}, {\"dt\": \"2022-02-01T06:00:00\", \"Pollutants\": \"co\", \"Concentration\": 323.77}, {\"dt\": \"2022-02-01T07:00:00\", \"Pollutants\": \"co\", \"Concentration\": 347.14}, {\"dt\": \"2022-02-01T08:00:00\", \"Pollutants\": \"co\", \"Concentration\": 377.18}, {\"dt\": \"2022-02-01T09:00:00\", \"Pollutants\": \"co\", \"Concentration\": 397.21}, {\"dt\": \"2022-02-01T10:00:00\", \"Pollutants\": \"co\", \"Concentration\": 390.53}, {\"dt\": \"2022-02-01T11:00:00\", \"Pollutants\": \"co\", \"Concentration\": 370.5}, {\"dt\": \"2022-02-01T12:00:00\", \"Pollutants\": \"co\", \"Concentration\": 357.15}, {\"dt\": \"2022-02-01T13:00:00\", \"Pollutants\": \"co\", \"Concentration\": 340.46}, {\"dt\": \"2022-02-01T14:00:00\", \"Pollutants\": \"co\", \"Concentration\": 327.11}, {\"dt\": \"2022-02-01T15:00:00\", \"Pollutants\": \"co\", \"Concentration\": 343.8}, {\"dt\": \"2022-02-01T16:00:00\", \"Pollutants\": \"co\", \"Concentration\": 397.21}, {\"dt\": \"2022-02-01T17:00:00\", \"Pollutants\": \"co\", \"Concentration\": 427.25}, {\"dt\": \"2022-02-01T18:00:00\", \"Pollutants\": \"co\", \"Concentration\": 410.56}, {\"dt\": \"2022-02-01T19:00:00\", \"Pollutants\": \"co\", \"Concentration\": 393.87}, {\"dt\": \"2022-02-01T20:00:00\", \"Pollutants\": \"co\", \"Concentration\": 407.22}, {\"dt\": \"2022-02-01T21:00:00\", \"Pollutants\": \"co\", \"Concentration\": 427.25}, {\"dt\": \"2022-02-01T22:00:00\", \"Pollutants\": \"co\", \"Concentration\": 410.56}, {\"dt\": \"2022-02-01T23:00:00\", \"Pollutants\": \"co\", \"Concentration\": 380.52}, {\"dt\": \"2022-02-02T00:00:00\", \"Pollutants\": \"co\", \"Concentration\": 367.17}, {\"dt\": \"2022-02-02T01:00:00\", \"Pollutants\": \"co\", \"Concentration\": 360.49}, {\"dt\": \"2022-02-02T02:00:00\", \"Pollutants\": \"co\", \"Concentration\": 363.83}, {\"dt\": \"2022-02-02T03:00:00\", \"Pollutants\": \"co\", \"Concentration\": 363.83}, {\"dt\": \"2022-02-02T04:00:00\", \"Pollutants\": \"co\", \"Concentration\": 373.84}, {\"dt\": \"2022-02-02T05:00:00\", \"Pollutants\": \"co\", \"Concentration\": 383.85}, {\"dt\": \"2022-02-02T06:00:00\", \"Pollutants\": \"co\", \"Concentration\": 393.87}, {\"dt\": \"2022-02-02T07:00:00\", \"Pollutants\": \"co\", \"Concentration\": 420.57}, {\"dt\": \"2022-02-02T08:00:00\", \"Pollutants\": \"co\", \"Concentration\": 460.63}, {\"dt\": \"2022-02-02T09:00:00\", \"Pollutants\": \"co\", \"Concentration\": 500.68}, {\"dt\": \"2022-02-02T10:00:00\", \"Pollutants\": \"co\", \"Concentration\": 520.71}, {\"dt\": \"2022-02-02T11:00:00\", \"Pollutants\": \"co\", \"Concentration\": 547.41}, {\"dt\": \"2022-02-02T12:00:00\", \"Pollutants\": \"co\", \"Concentration\": 607.49}, {\"dt\": \"2022-02-02T13:00:00\", \"Pollutants\": \"co\", \"Concentration\": 627.52}, {\"dt\": \"2022-02-02T14:00:00\", \"Pollutants\": \"co\", \"Concentration\": 600.82}, {\"dt\": \"2022-02-02T15:00:00\", \"Pollutants\": \"co\", \"Concentration\": 614.17}, {\"dt\": \"2022-02-02T16:00:00\", \"Pollutants\": \"co\", \"Concentration\": 674.25}, {\"dt\": \"2022-02-02T17:00:00\", \"Pollutants\": \"co\", \"Concentration\": 727.65}, {\"dt\": \"2022-02-02T18:00:00\", \"Pollutants\": \"co\", \"Concentration\": 727.65}, {\"dt\": \"2022-02-02T19:00:00\", \"Pollutants\": \"co\", \"Concentration\": 460.63}, {\"dt\": \"2022-02-02T20:00:00\", \"Pollutants\": \"co\", \"Concentration\": 467.3}, {\"dt\": \"2022-02-02T21:00:00\", \"Pollutants\": \"co\", \"Concentration\": 473.98}, {\"dt\": \"2022-02-02T22:00:00\", \"Pollutants\": \"co\", \"Concentration\": 507.36}, {\"dt\": \"2022-02-02T23:00:00\", \"Pollutants\": \"co\", \"Concentration\": 560.76}, {\"dt\": \"2022-02-03T00:00:00\", \"Pollutants\": \"co\", \"Concentration\": 594.14}, {\"dt\": \"2022-01-29T18:00:00\", \"Pollutants\": \"no\", \"Concentration\": 0.77}, {\"dt\": \"2022-01-29T19:00:00\", \"Pollutants\": \"no\", \"Concentration\": 1.17}, {\"dt\": \"2022-01-29T20:00:00\", \"Pollutants\": \"no\", \"Concentration\": 2.21}, {\"dt\": \"2022-01-29T21:00:00\", \"Pollutants\": \"no\", \"Concentration\": 2.77}, {\"dt\": \"2022-01-29T22:00:00\", \"Pollutants\": \"no\", \"Concentration\": 1.59}, {\"dt\": \"2022-01-29T23:00:00\", \"Pollutants\": \"no\", \"Concentration\": 0.89}, {\"dt\": \"2022-01-30T00:00:00\", \"Pollutants\": \"no\", \"Concentration\": 0.32}, {\"dt\": \"2022-01-30T01:00:00\", \"Pollutants\": \"no\", \"Concentration\": 0.03}, {\"dt\": \"2022-01-30T02:00:00\", \"Pollutants\": \"no\", \"Concentration\": 0.0}, {\"dt\": \"2022-01-30T03:00:00\", \"Pollutants\": \"no\", \"Concentration\": 0.0}, {\"dt\": \"2022-01-30T04:00:00\", \"Pollutants\": \"no\", \"Concentration\": 0.0}, {\"dt\": \"2022-01-30T05:00:00\", \"Pollutants\": \"no\", \"Concentration\": 0.0}, {\"dt\": \"2022-01-30T06:00:00\", \"Pollutants\": \"no\", \"Concentration\": 0.0}, {\"dt\": \"2022-01-30T07:00:00\", \"Pollutants\": \"no\", \"Concentration\": 0.0}, {\"dt\": \"2022-01-30T08:00:00\", \"Pollutants\": \"no\", \"Concentration\": 0.0}, {\"dt\": \"2022-01-30T09:00:00\", \"Pollutants\": \"no\", \"Concentration\": 0.0}, {\"dt\": \"2022-01-30T10:00:00\", \"Pollutants\": \"no\", \"Concentration\": 0.0}, {\"dt\": \"2022-01-30T11:00:00\", \"Pollutants\": \"no\", \"Concentration\": 0.0}, {\"dt\": \"2022-01-30T12:00:00\", \"Pollutants\": \"no\", \"Concentration\": 0.0}, {\"dt\": \"2022-01-30T13:00:00\", \"Pollutants\": \"no\", \"Concentration\": 0.0}, {\"dt\": \"2022-01-30T14:00:00\", \"Pollutants\": \"no\", \"Concentration\": 0.0}, {\"dt\": \"2022-01-30T15:00:00\", \"Pollutants\": \"no\", \"Concentration\": 0.0}, {\"dt\": \"2022-01-30T16:00:00\", \"Pollutants\": \"no\", \"Concentration\": 0.0}, {\"dt\": \"2022-01-30T17:00:00\", \"Pollutants\": \"no\", \"Concentration\": 0.01}, {\"dt\": \"2022-01-30T18:00:00\", \"Pollutants\": \"no\", \"Concentration\": 0.05}, {\"dt\": \"2022-01-30T19:00:00\", \"Pollutants\": \"no\", \"Concentration\": 0.21}, {\"dt\": \"2022-01-30T20:00:00\", \"Pollutants\": \"no\", \"Concentration\": 0.59}, {\"dt\": \"2022-01-30T21:00:00\", \"Pollutants\": \"no\", \"Concentration\": 1.24}, {\"dt\": \"2022-01-30T22:00:00\", \"Pollutants\": \"no\", \"Concentration\": 1.59}, {\"dt\": \"2022-01-30T23:00:00\", \"Pollutants\": \"no\", \"Concentration\": 0.55}, {\"dt\": \"2022-01-31T00:00:00\", \"Pollutants\": \"no\", \"Concentration\": 0.06}, {\"dt\": \"2022-01-31T01:00:00\", \"Pollutants\": \"no\", \"Concentration\": 0.01}, {\"dt\": \"2022-01-31T02:00:00\", \"Pollutants\": \"no\", \"Concentration\": 0.0}, {\"dt\": \"2022-01-31T03:00:00\", \"Pollutants\": \"no\", \"Concentration\": 0.0}, {\"dt\": \"2022-01-31T04:00:00\", \"Pollutants\": \"no\", \"Concentration\": 0.0}, {\"dt\": \"2022-01-31T05:00:00\", \"Pollutants\": \"no\", \"Concentration\": 0.0}, {\"dt\": \"2022-01-31T06:00:00\", \"Pollutants\": \"no\", \"Concentration\": 0.0}, {\"dt\": \"2022-01-31T07:00:00\", \"Pollutants\": \"no\", \"Concentration\": 0.0}, {\"dt\": \"2022-01-31T08:00:00\", \"Pollutants\": \"no\", \"Concentration\": 0.0}, {\"dt\": \"2022-01-31T09:00:00\", \"Pollutants\": \"no\", \"Concentration\": 0.0}, {\"dt\": \"2022-01-31T10:00:00\", \"Pollutants\": \"no\", \"Concentration\": 0.0}, {\"dt\": \"2022-01-31T11:00:00\", \"Pollutants\": \"no\", \"Concentration\": 0.0}, {\"dt\": \"2022-01-31T12:00:00\", \"Pollutants\": \"no\", \"Concentration\": 0.0}, {\"dt\": \"2022-01-31T13:00:00\", \"Pollutants\": \"no\", \"Concentration\": 0.0}, {\"dt\": \"2022-01-31T14:00:00\", \"Pollutants\": \"no\", \"Concentration\": 0.0}, {\"dt\": \"2022-01-31T15:00:00\", \"Pollutants\": \"no\", \"Concentration\": 0.0}, {\"dt\": \"2022-01-31T16:00:00\", \"Pollutants\": \"no\", \"Concentration\": 0.0}, {\"dt\": \"2022-01-31T17:00:00\", \"Pollutants\": \"no\", \"Concentration\": 0.28}, {\"dt\": \"2022-01-31T18:00:00\", \"Pollutants\": \"no\", \"Concentration\": 1.59}, {\"dt\": \"2022-01-31T19:00:00\", \"Pollutants\": \"no\", \"Concentration\": 2.35}, {\"dt\": \"2022-01-31T20:00:00\", \"Pollutants\": \"no\", \"Concentration\": 2.12}, {\"dt\": \"2022-01-31T21:00:00\", \"Pollutants\": \"no\", \"Concentration\": 1.55}, {\"dt\": \"2022-01-31T22:00:00\", \"Pollutants\": \"no\", \"Concentration\": 1.01}, {\"dt\": \"2022-01-31T23:00:00\", \"Pollutants\": \"no\", \"Concentration\": 0.79}, {\"dt\": \"2022-02-01T00:00:00\", \"Pollutants\": \"no\", \"Concentration\": 0.53}, {\"dt\": \"2022-02-01T01:00:00\", \"Pollutants\": \"no\", \"Concentration\": 0.15}, {\"dt\": \"2022-02-01T02:00:00\", \"Pollutants\": \"no\", \"Concentration\": 0.0}, {\"dt\": \"2022-02-01T03:00:00\", \"Pollutants\": \"no\", \"Concentration\": 0.0}, {\"dt\": \"2022-02-01T04:00:00\", \"Pollutants\": \"no\", \"Concentration\": 0.0}, {\"dt\": \"2022-02-01T05:00:00\", \"Pollutants\": \"no\", \"Concentration\": 0.0}, {\"dt\": \"2022-02-01T06:00:00\", \"Pollutants\": \"no\", \"Concentration\": 0.0}, {\"dt\": \"2022-02-01T07:00:00\", \"Pollutants\": \"no\", \"Concentration\": 0.01}, {\"dt\": \"2022-02-01T08:00:00\", \"Pollutants\": \"no\", \"Concentration\": 0.01}, {\"dt\": \"2022-02-01T09:00:00\", \"Pollutants\": \"no\", \"Concentration\": 0.01}, {\"dt\": \"2022-02-01T10:00:00\", \"Pollutants\": \"no\", \"Concentration\": 0.01}, {\"dt\": \"2022-02-01T11:00:00\", \"Pollutants\": \"no\", \"Concentration\": 0.01}, {\"dt\": \"2022-02-01T12:00:00\", \"Pollutants\": \"no\", \"Concentration\": 0.01}, {\"dt\": \"2022-02-01T13:00:00\", \"Pollutants\": \"no\", \"Concentration\": 0.0}, {\"dt\": \"2022-02-01T14:00:00\", \"Pollutants\": \"no\", \"Concentration\": 0.01}, {\"dt\": \"2022-02-01T15:00:00\", \"Pollutants\": \"no\", \"Concentration\": 0.03}, {\"dt\": \"2022-02-01T16:00:00\", \"Pollutants\": \"no\", \"Concentration\": 0.14}, {\"dt\": \"2022-02-01T17:00:00\", \"Pollutants\": \"no\", \"Concentration\": 0.5}, {\"dt\": \"2022-02-01T18:00:00\", \"Pollutants\": \"no\", \"Concentration\": 1.2}, {\"dt\": \"2022-02-01T19:00:00\", \"Pollutants\": \"no\", \"Concentration\": 2.18}, {\"dt\": \"2022-02-01T20:00:00\", \"Pollutants\": \"no\", \"Concentration\": 4.25}, {\"dt\": \"2022-02-01T21:00:00\", \"Pollutants\": \"no\", \"Concentration\": 6.2}, {\"dt\": \"2022-02-01T22:00:00\", \"Pollutants\": \"no\", \"Concentration\": 5.53}, {\"dt\": \"2022-02-01T23:00:00\", \"Pollutants\": \"no\", \"Concentration\": 3.44}, {\"dt\": \"2022-02-02T00:00:00\", \"Pollutants\": \"no\", \"Concentration\": 1.73}, {\"dt\": \"2022-02-02T01:00:00\", \"Pollutants\": \"no\", \"Concentration\": 0.37}, {\"dt\": \"2022-02-02T02:00:00\", \"Pollutants\": \"no\", \"Concentration\": 0.01}, {\"dt\": \"2022-02-02T03:00:00\", \"Pollutants\": \"no\", \"Concentration\": 0.01}, {\"dt\": \"2022-02-02T04:00:00\", \"Pollutants\": \"no\", \"Concentration\": 0.01}, {\"dt\": \"2022-02-02T05:00:00\", \"Pollutants\": \"no\", \"Concentration\": 0.02}, {\"dt\": \"2022-02-02T06:00:00\", \"Pollutants\": \"no\", \"Concentration\": 0.02}, {\"dt\": \"2022-02-02T07:00:00\", \"Pollutants\": \"no\", \"Concentration\": 0.05}, {\"dt\": \"2022-02-02T08:00:00\", \"Pollutants\": \"no\", \"Concentration\": 0.09}, {\"dt\": \"2022-02-02T09:00:00\", \"Pollutants\": \"no\", \"Concentration\": 0.15}, {\"dt\": \"2022-02-02T10:00:00\", \"Pollutants\": \"no\", \"Concentration\": 0.16}, {\"dt\": \"2022-02-02T11:00:00\", \"Pollutants\": \"no\", \"Concentration\": 0.33}, {\"dt\": \"2022-02-02T12:00:00\", \"Pollutants\": \"no\", \"Concentration\": 1.12}, {\"dt\": \"2022-02-02T13:00:00\", \"Pollutants\": \"no\", \"Concentration\": 1.9}, {\"dt\": \"2022-02-02T14:00:00\", \"Pollutants\": \"no\", \"Concentration\": 1.76}, {\"dt\": \"2022-02-02T15:00:00\", \"Pollutants\": \"no\", \"Concentration\": 3.55}, {\"dt\": \"2022-02-02T16:00:00\", \"Pollutants\": \"no\", \"Concentration\": 8.83}, {\"dt\": \"2022-02-02T17:00:00\", \"Pollutants\": \"no\", \"Concentration\": 13.64}, {\"dt\": \"2022-02-02T18:00:00\", \"Pollutants\": \"no\", \"Concentration\": 17.21}, {\"dt\": \"2022-02-02T19:00:00\", \"Pollutants\": \"no\", \"Concentration\": 4.69}, {\"dt\": \"2022-02-02T20:00:00\", \"Pollutants\": \"no\", \"Concentration\": 5.53}, {\"dt\": \"2022-02-02T21:00:00\", \"Pollutants\": \"no\", \"Concentration\": 6.43}, {\"dt\": \"2022-02-02T22:00:00\", \"Pollutants\": \"no\", \"Concentration\": 5.03}, {\"dt\": \"2022-02-02T23:00:00\", \"Pollutants\": \"no\", \"Concentration\": 5.42}, {\"dt\": \"2022-02-03T00:00:00\", \"Pollutants\": \"no\", \"Concentration\": 4.36}, {\"dt\": \"2022-01-29T18:00:00\", \"Pollutants\": \"no2\", \"Concentration\": 17.14}, {\"dt\": \"2022-01-29T19:00:00\", \"Pollutants\": \"no2\", \"Concentration\": 16.45}, {\"dt\": \"2022-01-29T20:00:00\", \"Pollutants\": \"no2\", \"Concentration\": 18.68}, {\"dt\": \"2022-01-29T21:00:00\", \"Pollutants\": \"no2\", \"Concentration\": 20.22}, {\"dt\": \"2022-01-29T22:00:00\", \"Pollutants\": \"no2\", \"Concentration\": 21.08}, {\"dt\": \"2022-01-29T23:00:00\", \"Pollutants\": \"no2\", \"Concentration\": 20.39}, {\"dt\": \"2022-01-30T00:00:00\", \"Pollutants\": \"no2\", \"Concentration\": 19.54}, {\"dt\": \"2022-01-30T01:00:00\", \"Pollutants\": \"no2\", \"Concentration\": 16.62}, {\"dt\": \"2022-01-30T02:00:00\", \"Pollutants\": \"no2\", \"Concentration\": 13.54}, {\"dt\": \"2022-01-30T03:00:00\", \"Pollutants\": \"no2\", \"Concentration\": 11.48}, {\"dt\": \"2022-01-30T04:00:00\", \"Pollutants\": \"no2\", \"Concentration\": 9.94}, {\"dt\": \"2022-01-30T05:00:00\", \"Pollutants\": \"no2\", \"Concentration\": 8.31}, {\"dt\": \"2022-01-30T06:00:00\", \"Pollutants\": \"no2\", \"Concentration\": 6.94}, {\"dt\": \"2022-01-30T07:00:00\", \"Pollutants\": \"no2\", \"Concentration\": 6.34}, {\"dt\": \"2022-01-30T08:00:00\", \"Pollutants\": \"no2\", \"Concentration\": 5.83}, {\"dt\": \"2022-01-30T09:00:00\", \"Pollutants\": \"no2\", \"Concentration\": 5.18}, {\"dt\": \"2022-01-30T10:00:00\", \"Pollutants\": \"no2\", \"Concentration\": 4.8}, {\"dt\": \"2022-01-30T11:00:00\", \"Pollutants\": \"no2\", \"Concentration\": 4.54}, {\"dt\": \"2022-01-30T12:00:00\", \"Pollutants\": \"no2\", \"Concentration\": 4.28}, {\"dt\": \"2022-01-30T13:00:00\", \"Pollutants\": \"no2\", \"Concentration\": 3.9}, {\"dt\": \"2022-01-30T14:00:00\", \"Pollutants\": \"no2\", \"Concentration\": 3.9}, {\"dt\": \"2022-01-30T15:00:00\", \"Pollutants\": \"no2\", \"Concentration\": 5.23}, {\"dt\": \"2022-01-30T16:00:00\", \"Pollutants\": \"no2\", \"Concentration\": 8.14}, {\"dt\": \"2022-01-30T17:00:00\", \"Pollutants\": \"no2\", \"Concentration\": 10.63}, {\"dt\": \"2022-01-30T18:00:00\", \"Pollutants\": \"no2\", \"Concentration\": 12.0}, {\"dt\": \"2022-01-30T19:00:00\", \"Pollutants\": \"no2\", \"Concentration\": 17.31}, {\"dt\": \"2022-01-30T20:00:00\", \"Pollutants\": \"no2\", \"Concentration\": 26.73}, {\"dt\": \"2022-01-30T21:00:00\", \"Pollutants\": \"no2\", \"Concentration\": 35.99}, {\"dt\": \"2022-01-30T22:00:00\", \"Pollutants\": \"no2\", \"Concentration\": 39.41}, {\"dt\": \"2022-01-30T23:00:00\", \"Pollutants\": \"no2\", \"Concentration\": 27.76}, {\"dt\": \"2022-01-31T00:00:00\", \"Pollutants\": \"no2\", \"Concentration\": 10.45}, {\"dt\": \"2022-01-31T01:00:00\", \"Pollutants\": \"no2\", \"Concentration\": 4.8}, {\"dt\": \"2022-01-31T02:00:00\", \"Pollutants\": \"no2\", \"Concentration\": 3.43}, {\"dt\": \"2022-01-31T03:00:00\", \"Pollutants\": \"no2\", \"Concentration\": 2.74}, {\"dt\": \"2022-01-31T04:00:00\", \"Pollutants\": \"no2\", \"Concentration\": 2.87}, {\"dt\": \"2022-01-31T05:00:00\", \"Pollutants\": \"no2\", \"Concentration\": 3.0}, {\"dt\": \"2022-01-31T06:00:00\", \"Pollutants\": \"no2\", \"Concentration\": 3.09}, {\"dt\": \"2022-01-31T07:00:00\", \"Pollutants\": \"no2\", \"Concentration\": 3.26}, {\"dt\": \"2022-01-31T08:00:00\", \"Pollutants\": \"no2\", \"Concentration\": 3.04}, {\"dt\": \"2022-01-31T09:00:00\", \"Pollutants\": \"no2\", \"Concentration\": 3.04}, {\"dt\": \"2022-01-31T10:00:00\", \"Pollutants\": \"no2\", \"Concentration\": 3.09}, {\"dt\": \"2022-01-31T11:00:00\", \"Pollutants\": \"no2\", \"Concentration\": 3.43}, {\"dt\": \"2022-01-31T12:00:00\", \"Pollutants\": \"no2\", \"Concentration\": 4.03}, {\"dt\": \"2022-01-31T13:00:00\", \"Pollutants\": \"no2\", \"Concentration\": 4.93}, {\"dt\": \"2022-01-31T14:00:00\", \"Pollutants\": \"no2\", \"Concentration\": 5.91}, {\"dt\": \"2022-01-31T15:00:00\", \"Pollutants\": \"no2\", \"Concentration\": 8.23}, {\"dt\": \"2022-01-31T16:00:00\", \"Pollutants\": \"no2\", \"Concentration\": 13.71}, {\"dt\": \"2022-01-31T17:00:00\", \"Pollutants\": \"no2\", \"Concentration\": 18.34}, {\"dt\": \"2022-01-31T18:00:00\", \"Pollutants\": \"no2\", \"Concentration\": 17.31}, {\"dt\": \"2022-01-31T19:00:00\", \"Pollutants\": \"no2\", \"Concentration\": 14.74}, {\"dt\": \"2022-01-31T20:00:00\", \"Pollutants\": \"no2\", \"Concentration\": 12.51}, {\"dt\": \"2022-01-31T21:00:00\", \"Pollutants\": \"no2\", \"Concentration\": 11.31}, {\"dt\": \"2022-01-31T22:00:00\", \"Pollutants\": \"no2\", \"Concentration\": 8.65}, {\"dt\": \"2022-01-31T23:00:00\", \"Pollutants\": \"no2\", \"Concentration\": 7.37}, {\"dt\": \"2022-02-01T00:00:00\", \"Pollutants\": \"no2\", \"Concentration\": 7.88}, {\"dt\": \"2022-02-01T01:00:00\", \"Pollutants\": \"no2\", \"Concentration\": 10.45}, {\"dt\": \"2022-02-01T02:00:00\", \"Pollutants\": \"no2\", \"Concentration\": 12.68}, {\"dt\": \"2022-02-01T03:00:00\", \"Pollutants\": \"no2\", \"Concentration\": 12.85}, {\"dt\": \"2022-02-01T04:00:00\", \"Pollutants\": \"no2\", \"Concentration\": 13.54}, {\"dt\": \"2022-02-01T05:00:00\", \"Pollutants\": \"no2\", \"Concentration\": 13.88}, {\"dt\": \"2022-02-01T06:00:00\", \"Pollutants\": \"no2\", \"Concentration\": 14.22}, {\"dt\": \"2022-02-01T07:00:00\", \"Pollutants\": \"no2\", \"Concentration\": 16.28}, {\"dt\": \"2022-02-01T08:00:00\", \"Pollutants\": \"no2\", \"Concentration\": 20.22}, {\"dt\": \"2022-02-01T09:00:00\", \"Pollutants\": \"no2\", \"Concentration\": 23.99}, {\"dt\": \"2022-02-01T10:00:00\", \"Pollutants\": \"no2\", \"Concentration\": 23.99}, {\"dt\": \"2022-02-01T11:00:00\", \"Pollutants\": \"no2\", \"Concentration\": 22.62}, {\"dt\": \"2022-02-01T12:00:00\", \"Pollutants\": \"no2\", \"Concentration\": 21.42}, {\"dt\": \"2022-02-01T13:00:00\", \"Pollutants\": \"no2\", \"Concentration\": 19.36}, {\"dt\": \"2022-02-01T14:00:00\", \"Pollutants\": \"no2\", \"Concentration\": 17.14}, {\"dt\": \"2022-02-01T15:00:00\", \"Pollutants\": \"no2\", \"Concentration\": 18.34}, {\"dt\": \"2022-02-01T16:00:00\", \"Pollutants\": \"no2\", \"Concentration\": 24.33}, {\"dt\": \"2022-02-01T17:00:00\", \"Pollutants\": \"no2\", \"Concentration\": 26.73}, {\"dt\": \"2022-02-01T18:00:00\", \"Pollutants\": \"no2\", \"Concentration\": 22.96}, {\"dt\": \"2022-02-01T19:00:00\", \"Pollutants\": \"no2\", \"Concentration\": 18.85}, {\"dt\": \"2022-02-01T20:00:00\", \"Pollutants\": \"no2\", \"Concentration\": 17.82}, {\"dt\": \"2022-02-01T21:00:00\", \"Pollutants\": \"no2\", \"Concentration\": 17.65}, {\"dt\": \"2022-02-01T22:00:00\", \"Pollutants\": \"no2\", \"Concentration\": 16.28}, {\"dt\": \"2022-02-01T23:00:00\", \"Pollutants\": \"no2\", \"Concentration\": 14.57}, {\"dt\": \"2022-02-02T00:00:00\", \"Pollutants\": \"no2\", \"Concentration\": 14.74}, {\"dt\": \"2022-02-02T01:00:00\", \"Pollutants\": \"no2\", \"Concentration\": 15.94}, {\"dt\": \"2022-02-02T02:00:00\", \"Pollutants\": \"no2\", \"Concentration\": 17.14}, {\"dt\": \"2022-02-02T03:00:00\", \"Pollutants\": \"no2\", \"Concentration\": 17.31}, {\"dt\": \"2022-02-02T04:00:00\", \"Pollutants\": \"no2\", \"Concentration\": 18.85}, {\"dt\": \"2022-02-02T05:00:00\", \"Pollutants\": \"no2\", \"Concentration\": 21.25}, {\"dt\": \"2022-02-02T06:00:00\", \"Pollutants\": \"no2\", \"Concentration\": 23.31}, {\"dt\": \"2022-02-02T07:00:00\", \"Pollutants\": \"no2\", \"Concentration\": 27.42}, {\"dt\": \"2022-02-02T08:00:00\", \"Pollutants\": \"no2\", \"Concentration\": 32.56}, {\"dt\": \"2022-02-02T09:00:00\", \"Pollutants\": \"no2\", \"Concentration\": 37.36}, {\"dt\": \"2022-02-02T10:00:00\", \"Pollutants\": \"no2\", \"Concentration\": 39.76}, {\"dt\": \"2022-02-02T11:00:00\", \"Pollutants\": \"no2\", \"Concentration\": 43.18}, {\"dt\": \"2022-02-02T12:00:00\", \"Pollutants\": \"no2\", \"Concentration\": 50.04}, {\"dt\": \"2022-02-02T13:00:00\", \"Pollutants\": \"no2\", \"Concentration\": 54.84}, {\"dt\": \"2022-02-02T14:00:00\", \"Pollutants\": \"no2\", \"Concentration\": 56.21}, {\"dt\": \"2022-02-02T15:00:00\", \"Pollutants\": \"no2\", \"Concentration\": 57.58}, {\"dt\": \"2022-02-02T16:00:00\", \"Pollutants\": \"no2\", \"Concentration\": 61.01}, {\"dt\": \"2022-02-02T17:00:00\", \"Pollutants\": \"no2\", \"Concentration\": 62.38}, {\"dt\": \"2022-02-02T18:00:00\", \"Pollutants\": \"no2\", \"Concentration\": 58.95}, {\"dt\": \"2022-02-02T19:00:00\", \"Pollutants\": \"no2\", \"Concentration\": 45.24}, {\"dt\": \"2022-02-02T20:00:00\", \"Pollutants\": \"no2\", \"Concentration\": 41.13}, {\"dt\": \"2022-02-02T21:00:00\", \"Pollutants\": \"no2\", \"Concentration\": 39.07}, {\"dt\": \"2022-02-02T22:00:00\", \"Pollutants\": \"no2\", \"Concentration\": 45.24}, {\"dt\": \"2022-02-02T23:00:00\", \"Pollutants\": \"no2\", \"Concentration\": 51.41}, {\"dt\": \"2022-02-03T00:00:00\", \"Pollutants\": \"no2\", \"Concentration\": 54.84}, {\"dt\": \"2022-01-29T18:00:00\", \"Pollutants\": \"o3\", \"Concentration\": 42.56}, {\"dt\": \"2022-01-29T19:00:00\", \"Pollutants\": \"o3\", \"Concentration\": 47.92}, {\"dt\": \"2022-01-29T20:00:00\", \"Pollutants\": \"o3\", \"Concentration\": 42.92}, {\"dt\": \"2022-01-29T21:00:00\", \"Pollutants\": \"o3\", \"Concentration\": 39.7}, {\"dt\": \"2022-01-29T22:00:00\", \"Pollutants\": \"o3\", \"Concentration\": 37.91}, {\"dt\": \"2022-01-29T23:00:00\", \"Pollutants\": \"o3\", \"Concentration\": 37.55}, {\"dt\": \"2022-01-30T00:00:00\", \"Pollutants\": \"o3\", \"Concentration\": 38.98}, {\"dt\": \"2022-01-30T01:00:00\", \"Pollutants\": \"o3\", \"Concentration\": 43.27}, {\"dt\": \"2022-01-30T02:00:00\", \"Pollutants\": \"o3\", \"Concentration\": 49.35}, {\"dt\": \"2022-01-30T03:00:00\", \"Pollutants\": \"o3\", \"Concentration\": 55.79}, {\"dt\": \"2022-01-30T04:00:00\", \"Pollutants\": \"o3\", \"Concentration\": 62.23}, {\"dt\": \"2022-01-30T05:00:00\", \"Pollutants\": \"o3\", \"Concentration\": 67.23}, {\"dt\": \"2022-01-30T06:00:00\", \"Pollutants\": \"o3\", \"Concentration\": 70.1}, {\"dt\": \"2022-01-30T07:00:00\", \"Pollutants\": \"o3\", \"Concentration\": 72.24}, {\"dt\": \"2022-01-30T08:00:00\", \"Pollutants\": \"o3\", \"Concentration\": 72.96}, {\"dt\": \"2022-01-30T09:00:00\", \"Pollutants\": \"o3\", \"Concentration\": 71.53}, {\"dt\": \"2022-01-30T10:00:00\", \"Pollutants\": \"o3\", \"Concentration\": 70.1}, {\"dt\": \"2022-01-30T11:00:00\", \"Pollutants\": \"o3\", \"Concentration\": 69.38}, {\"dt\": \"2022-01-30T12:00:00\", \"Pollutants\": \"o3\", \"Concentration\": 71.53}, {\"dt\": \"2022-01-30T13:00:00\", \"Pollutants\": \"o3\", \"Concentration\": 73.67}, {\"dt\": \"2022-01-30T14:00:00\", \"Pollutants\": \"o3\", \"Concentration\": 74.39}, {\"dt\": \"2022-01-30T15:00:00\", \"Pollutants\": \"o3\", \"Concentration\": 72.96}, {\"dt\": \"2022-01-30T16:00:00\", \"Pollutants\": \"o3\", \"Concentration\": 69.38}, {\"dt\": \"2022-01-30T17:00:00\", \"Pollutants\": \"o3\", \"Concentration\": 64.37}, {\"dt\": \"2022-01-30T18:00:00\", \"Pollutants\": \"o3\", \"Concentration\": 58.65}, {\"dt\": \"2022-01-30T19:00:00\", \"Pollutants\": \"o3\", \"Concentration\": 50.78}, {\"dt\": \"2022-01-30T20:00:00\", \"Pollutants\": \"o3\", \"Concentration\": 39.34}, {\"dt\": \"2022-01-30T21:00:00\", \"Pollutants\": \"o3\", \"Concentration\": 28.25}, {\"dt\": \"2022-01-30T22:00:00\", \"Pollutants\": \"o3\", \"Concentration\": 22.35}, {\"dt\": \"2022-01-30T23:00:00\", \"Pollutants\": \"o3\", \"Concentration\": 33.98}, {\"dt\": \"2022-01-31T00:00:00\", \"Pollutants\": \"o3\", \"Concentration\": 54.36}, {\"dt\": \"2022-01-31T01:00:00\", \"Pollutants\": \"o3\", \"Concentration\": 67.23}, {\"dt\": \"2022-01-31T02:00:00\", \"Pollutants\": \"o3\", \"Concentration\": 79.39}, {\"dt\": \"2022-01-31T03:00:00\", \"Pollutants\": \"o3\", \"Concentration\": 83.69}, {\"dt\": \"2022-01-31T04:00:00\", \"Pollutants\": \"o3\", \"Concentration\": 82.97}, {\"dt\": \"2022-01-31T05:00:00\", \"Pollutants\": \"o3\", \"Concentration\": 80.82}, {\"dt\": \"2022-01-31T06:00:00\", \"Pollutants\": \"o3\", \"Concentration\": 79.39}, {\"dt\": \"2022-01-31T07:00:00\", \"Pollutants\": \"o3\", \"Concentration\": 78.68}, {\"dt\": \"2022-01-31T08:00:00\", \"Pollutants\": \"o3\", \"Concentration\": 78.68}, {\"dt\": \"2022-01-31T09:00:00\", \"Pollutants\": \"o3\", \"Concentration\": 78.68}, {\"dt\": \"2022-01-31T10:00:00\", \"Pollutants\": \"o3\", \"Concentration\": 79.39}, {\"dt\": \"2022-01-31T11:00:00\", \"Pollutants\": \"o3\", \"Concentration\": 80.11}, {\"dt\": \"2022-01-31T12:00:00\", \"Pollutants\": \"o3\", \"Concentration\": 78.68}, {\"dt\": \"2022-01-31T13:00:00\", \"Pollutants\": \"o3\", \"Concentration\": 76.53}, {\"dt\": \"2022-01-31T14:00:00\", \"Pollutants\": \"o3\", \"Concentration\": 75.1}, {\"dt\": \"2022-01-31T15:00:00\", \"Pollutants\": \"o3\", \"Concentration\": 72.96}, {\"dt\": \"2022-01-31T16:00:00\", \"Pollutants\": \"o3\", \"Concentration\": 67.23}, {\"dt\": \"2022-01-31T17:00:00\", \"Pollutants\": \"o3\", \"Concentration\": 62.23}, {\"dt\": \"2022-01-31T18:00:00\", \"Pollutants\": \"o3\", \"Concentration\": 63.66}, {\"dt\": \"2022-01-31T19:00:00\", \"Pollutants\": \"o3\", \"Concentration\": 67.23}, {\"dt\": \"2022-01-31T20:00:00\", \"Pollutants\": \"o3\", \"Concentration\": 70.81}, {\"dt\": \"2022-01-31T21:00:00\", \"Pollutants\": \"o3\", \"Concentration\": 70.81}, {\"dt\": \"2022-01-31T22:00:00\", \"Pollutants\": \"o3\", \"Concentration\": 69.38}, {\"dt\": \"2022-01-31T23:00:00\", \"Pollutants\": \"o3\", \"Concentration\": 68.67}, {\"dt\": \"2022-02-01T00:00:00\", \"Pollutants\": \"o3\", \"Concentration\": 67.23}, {\"dt\": \"2022-02-01T01:00:00\", \"Pollutants\": \"o3\", \"Concentration\": 62.94}, {\"dt\": \"2022-02-01T02:00:00\", \"Pollutants\": \"o3\", \"Concentration\": 60.08}, {\"dt\": \"2022-02-01T03:00:00\", \"Pollutants\": \"o3\", \"Concentration\": 58.65}, {\"dt\": \"2022-02-01T04:00:00\", \"Pollutants\": \"o3\", \"Concentration\": 57.22}, {\"dt\": \"2022-02-01T05:00:00\", \"Pollutants\": \"o3\", \"Concentration\": 55.79}, {\"dt\": \"2022-02-01T06:00:00\", \"Pollutants\": \"o3\", \"Concentration\": 52.21}, {\"dt\": \"2022-02-01T07:00:00\", \"Pollutants\": \"o3\", \"Concentration\": 44.35}, {\"dt\": \"2022-02-01T08:00:00\", \"Pollutants\": \"o3\", \"Concentration\": 36.84}, {\"dt\": \"2022-02-01T09:00:00\", \"Pollutants\": \"o3\", \"Concentration\": 30.04}, {\"dt\": \"2022-02-01T10:00:00\", \"Pollutants\": \"o3\", \"Concentration\": 28.61}, {\"dt\": \"2022-02-01T11:00:00\", \"Pollutants\": \"o3\", \"Concentration\": 30.4}, {\"dt\": \"2022-02-01T12:00:00\", \"Pollutants\": \"o3\", \"Concentration\": 31.47}, {\"dt\": \"2022-02-01T13:00:00\", \"Pollutants\": \"o3\", \"Concentration\": 33.62}, {\"dt\": \"2022-02-01T14:00:00\", \"Pollutants\": \"o3\", \"Concentration\": 35.05}, {\"dt\": \"2022-02-01T15:00:00\", \"Pollutants\": \"o3\", \"Concentration\": 32.19}, {\"dt\": \"2022-02-01T16:00:00\", \"Pollutants\": \"o3\", \"Concentration\": 24.32}, {\"dt\": \"2022-02-01T17:00:00\", \"Pollutants\": \"o3\", \"Concentration\": 22.53}, {\"dt\": \"2022-02-01T18:00:00\", \"Pollutants\": \"o3\", \"Concentration\": 28.25}, {\"dt\": \"2022-02-01T19:00:00\", \"Pollutants\": \"o3\", \"Concentration\": 37.19}, {\"dt\": \"2022-02-01T20:00:00\", \"Pollutants\": \"o3\", \"Concentration\": 38.62}, {\"dt\": \"2022-02-01T21:00:00\", \"Pollutants\": \"o3\", \"Concentration\": 37.91}, {\"dt\": \"2022-02-01T22:00:00\", \"Pollutants\": \"o3\", \"Concentration\": 42.56}, {\"dt\": \"2022-02-01T23:00:00\", \"Pollutants\": \"o3\", \"Concentration\": 49.35}, {\"dt\": \"2022-02-02T00:00:00\", \"Pollutants\": \"o3\", \"Concentration\": 53.64}, {\"dt\": \"2022-02-02T01:00:00\", \"Pollutants\": \"o3\", \"Concentration\": 52.93}, {\"dt\": \"2022-02-02T02:00:00\", \"Pollutants\": \"o3\", \"Concentration\": 49.35}, {\"dt\": \"2022-02-02T03:00:00\", \"Pollutants\": \"o3\", \"Concentration\": 46.49}, {\"dt\": \"2022-02-02T04:00:00\", \"Pollutants\": \"o3\", \"Concentration\": 41.84}, {\"dt\": \"2022-02-02T05:00:00\", \"Pollutants\": \"o3\", \"Concentration\": 37.55}, {\"dt\": \"2022-02-02T06:00:00\", \"Pollutants\": \"o3\", \"Concentration\": 33.98}, {\"dt\": \"2022-02-02T07:00:00\", \"Pollutants\": \"o3\", \"Concentration\": 27.9}, {\"dt\": \"2022-02-02T08:00:00\", \"Pollutants\": \"o3\", \"Concentration\": 20.74}, {\"dt\": \"2022-02-02T09:00:00\", \"Pollutants\": \"o3\", \"Concentration\": 14.84}, {\"dt\": \"2022-02-02T10:00:00\", \"Pollutants\": \"o3\", \"Concentration\": 11.98}, {\"dt\": \"2022-02-02T11:00:00\", \"Pollutants\": \"o3\", \"Concentration\": 8.58}, {\"dt\": \"2022-02-02T12:00:00\", \"Pollutants\": \"o3\", \"Concentration\": 3.44}, {\"dt\": \"2022-02-02T13:00:00\", \"Pollutants\": \"o3\", \"Concentration\": 1.48}, {\"dt\": \"2022-02-02T14:00:00\", \"Pollutants\": \"o3\", \"Concentration\": 1.29}, {\"dt\": \"2022-02-02T15:00:00\", \"Pollutants\": \"o3\", \"Concentration\": 0.55}, {\"dt\": \"2022-02-02T16:00:00\", \"Pollutants\": \"o3\", \"Concentration\": 0.03}, {\"dt\": \"2022-02-02T17:00:00\", \"Pollutants\": \"o3\", \"Concentration\": 0.64}, {\"dt\": \"2022-02-02T18:00:00\", \"Pollutants\": \"o3\", \"Concentration\": 3.44}, {\"dt\": \"2022-02-02T19:00:00\", \"Pollutants\": \"o3\", \"Concentration\": 24.32}, {\"dt\": \"2022-02-02T20:00:00\", \"Pollutants\": \"o3\", \"Concentration\": 27.18}, {\"dt\": \"2022-02-02T21:00:00\", \"Pollutants\": \"o3\", \"Concentration\": 27.54}, {\"dt\": \"2022-02-02T22:00:00\", \"Pollutants\": \"o3\", \"Concentration\": 20.03}, {\"dt\": \"2022-02-02T23:00:00\", \"Pollutants\": \"o3\", \"Concentration\": 13.05}, {\"dt\": \"2022-02-03T00:00:00\", \"Pollutants\": \"o3\", \"Concentration\": 8.23}, {\"dt\": \"2022-01-29T18:00:00\", \"Pollutants\": \"so2\", \"Concentration\": 2.06}, {\"dt\": \"2022-01-29T19:00:00\", \"Pollutants\": \"so2\", \"Concentration\": 2.86}, {\"dt\": \"2022-01-29T20:00:00\", \"Pollutants\": \"so2\", \"Concentration\": 3.4}, {\"dt\": \"2022-01-29T21:00:00\", \"Pollutants\": \"so2\", \"Concentration\": 3.87}, {\"dt\": \"2022-01-29T22:00:00\", \"Pollutants\": \"so2\", \"Concentration\": 3.58}, {\"dt\": \"2022-01-29T23:00:00\", \"Pollutants\": \"so2\", \"Concentration\": 2.92}, {\"dt\": \"2022-01-30T00:00:00\", \"Pollutants\": \"so2\", \"Concentration\": 2.47}, {\"dt\": \"2022-01-30T01:00:00\", \"Pollutants\": \"so2\", \"Concentration\": 2.09}, {\"dt\": \"2022-01-30T02:00:00\", \"Pollutants\": \"so2\", \"Concentration\": 1.67}, {\"dt\": \"2022-01-30T03:00:00\", \"Pollutants\": \"so2\", \"Concentration\": 1.52}, {\"dt\": \"2022-01-30T04:00:00\", \"Pollutants\": \"so2\", \"Concentration\": 1.43}, {\"dt\": \"2022-01-30T05:00:00\", \"Pollutants\": \"so2\", \"Concentration\": 1.22}, {\"dt\": \"2022-01-30T06:00:00\", \"Pollutants\": \"so2\", \"Concentration\": 1.06}, {\"dt\": \"2022-01-30T07:00:00\", \"Pollutants\": \"so2\", \"Concentration\": 0.97}, {\"dt\": \"2022-01-30T08:00:00\", \"Pollutants\": \"so2\", \"Concentration\": 0.84}, {\"dt\": \"2022-01-30T09:00:00\", \"Pollutants\": \"so2\", \"Concentration\": 0.81}, {\"dt\": \"2022-01-30T10:00:00\", \"Pollutants\": \"so2\", \"Concentration\": 0.78}, {\"dt\": \"2022-01-30T11:00:00\", \"Pollutants\": \"so2\", \"Concentration\": 0.69}, {\"dt\": \"2022-01-30T12:00:00\", \"Pollutants\": \"so2\", \"Concentration\": 0.67}, {\"dt\": \"2022-01-30T13:00:00\", \"Pollutants\": \"so2\", \"Concentration\": 0.66}, {\"dt\": \"2022-01-30T14:00:00\", \"Pollutants\": \"so2\", \"Concentration\": 0.73}, {\"dt\": \"2022-01-30T15:00:00\", \"Pollutants\": \"so2\", \"Concentration\": 1.06}, {\"dt\": \"2022-01-30T16:00:00\", \"Pollutants\": \"so2\", \"Concentration\": 1.48}, {\"dt\": \"2022-01-30T17:00:00\", \"Pollutants\": \"so2\", \"Concentration\": 1.68}, {\"dt\": \"2022-01-30T18:00:00\", \"Pollutants\": \"so2\", \"Concentration\": 1.85}, {\"dt\": \"2022-01-30T19:00:00\", \"Pollutants\": \"so2\", \"Concentration\": 2.56}, {\"dt\": \"2022-01-30T20:00:00\", \"Pollutants\": \"so2\", \"Concentration\": 3.76}, {\"dt\": \"2022-01-30T21:00:00\", \"Pollutants\": \"so2\", \"Concentration\": 5.31}, {\"dt\": \"2022-01-30T22:00:00\", \"Pollutants\": \"so2\", \"Concentration\": 5.54}, {\"dt\": \"2022-01-30T23:00:00\", \"Pollutants\": \"so2\", \"Concentration\": 2.71}, {\"dt\": \"2022-01-31T00:00:00\", \"Pollutants\": \"so2\", \"Concentration\": 1.13}, {\"dt\": \"2022-01-31T01:00:00\", \"Pollutants\": \"so2\", \"Concentration\": 0.78}, {\"dt\": \"2022-01-31T02:00:00\", \"Pollutants\": \"so2\", \"Concentration\": 0.62}, {\"dt\": \"2022-01-31T03:00:00\", \"Pollutants\": \"so2\", \"Concentration\": 0.66}, {\"dt\": \"2022-01-31T04:00:00\", \"Pollutants\": \"so2\", \"Concentration\": 0.81}, {\"dt\": \"2022-01-31T05:00:00\", \"Pollutants\": \"so2\", \"Concentration\": 0.9}, {\"dt\": \"2022-01-31T06:00:00\", \"Pollutants\": \"so2\", \"Concentration\": 1.15}, {\"dt\": \"2022-01-31T07:00:00\", \"Pollutants\": \"so2\", \"Concentration\": 1.28}, {\"dt\": \"2022-01-31T08:00:00\", \"Pollutants\": \"so2\", \"Concentration\": 1.15}, {\"dt\": \"2022-01-31T09:00:00\", \"Pollutants\": \"so2\", \"Concentration\": 1.36}, {\"dt\": \"2022-01-31T10:00:00\", \"Pollutants\": \"so2\", \"Concentration\": 1.74}, {\"dt\": \"2022-01-31T11:00:00\", \"Pollutants\": \"so2\", \"Concentration\": 2.15}, {\"dt\": \"2022-01-31T12:00:00\", \"Pollutants\": \"so2\", \"Concentration\": 2.56}, {\"dt\": \"2022-01-31T13:00:00\", \"Pollutants\": \"so2\", \"Concentration\": 2.98}, {\"dt\": \"2022-01-31T14:00:00\", \"Pollutants\": \"so2\", \"Concentration\": 3.4}, {\"dt\": \"2022-01-31T15:00:00\", \"Pollutants\": \"so2\", \"Concentration\": 4.17}, {\"dt\": \"2022-01-31T16:00:00\", \"Pollutants\": \"so2\", \"Concentration\": 5.25}, {\"dt\": \"2022-01-31T17:00:00\", \"Pollutants\": \"so2\", \"Concentration\": 5.9}, {\"dt\": \"2022-01-31T18:00:00\", \"Pollutants\": \"so2\", \"Concentration\": 6.02}, {\"dt\": \"2022-01-31T19:00:00\", \"Pollutants\": \"so2\", \"Concentration\": 5.9}, {\"dt\": \"2022-01-31T20:00:00\", \"Pollutants\": \"so2\", \"Concentration\": 5.19}, {\"dt\": \"2022-01-31T21:00:00\", \"Pollutants\": \"so2\", \"Concentration\": 4.23}, {\"dt\": \"2022-01-31T22:00:00\", \"Pollutants\": \"so2\", \"Concentration\": 2.8}, {\"dt\": \"2022-01-31T23:00:00\", \"Pollutants\": \"so2\", \"Concentration\": 2.09}, {\"dt\": \"2022-02-01T00:00:00\", \"Pollutants\": \"so2\", \"Concentration\": 1.97}, {\"dt\": \"2022-02-01T01:00:00\", \"Pollutants\": \"so2\", \"Concentration\": 2.0}, {\"dt\": \"2022-02-01T02:00:00\", \"Pollutants\": \"so2\", \"Concentration\": 2.3}, {\"dt\": \"2022-02-01T03:00:00\", \"Pollutants\": \"so2\", \"Concentration\": 2.83}, {\"dt\": \"2022-02-01T04:00:00\", \"Pollutants\": \"so2\", \"Concentration\": 3.73}, {\"dt\": \"2022-02-01T05:00:00\", \"Pollutants\": \"so2\", \"Concentration\": 4.47}, {\"dt\": \"2022-02-01T06:00:00\", \"Pollutants\": \"so2\", \"Concentration\": 5.01}, {\"dt\": \"2022-02-01T07:00:00\", \"Pollutants\": \"so2\", \"Concentration\": 4.23}, {\"dt\": \"2022-02-01T08:00:00\", \"Pollutants\": \"so2\", \"Concentration\": 4.89}, {\"dt\": \"2022-02-01T09:00:00\", \"Pollutants\": \"so2\", \"Concentration\": 6.02}, {\"dt\": \"2022-02-01T10:00:00\", \"Pollutants\": \"so2\", \"Concentration\": 6.62}, {\"dt\": \"2022-02-01T11:00:00\", \"Pollutants\": \"so2\", \"Concentration\": 6.8}, {\"dt\": \"2022-02-01T12:00:00\", \"Pollutants\": \"so2\", \"Concentration\": 6.97}, {\"dt\": \"2022-02-01T13:00:00\", \"Pollutants\": \"so2\", \"Concentration\": 6.62}, {\"dt\": \"2022-02-01T14:00:00\", \"Pollutants\": \"so2\", \"Concentration\": 5.78}, {\"dt\": \"2022-02-01T15:00:00\", \"Pollutants\": \"so2\", \"Concentration\": 5.42}, {\"dt\": \"2022-02-01T16:00:00\", \"Pollutants\": \"so2\", \"Concentration\": 5.66}, {\"dt\": \"2022-02-01T17:00:00\", \"Pollutants\": \"so2\", \"Concentration\": 6.14}, {\"dt\": \"2022-02-01T18:00:00\", \"Pollutants\": \"so2\", \"Concentration\": 5.78}, {\"dt\": \"2022-02-01T19:00:00\", \"Pollutants\": \"so2\", \"Concentration\": 5.48}, {\"dt\": \"2022-02-01T20:00:00\", \"Pollutants\": \"so2\", \"Concentration\": 5.42}, {\"dt\": \"2022-02-01T21:00:00\", \"Pollutants\": \"so2\", \"Concentration\": 5.66}, {\"dt\": \"2022-02-01T22:00:00\", \"Pollutants\": \"so2\", \"Concentration\": 5.42}, {\"dt\": \"2022-02-01T23:00:00\", \"Pollutants\": \"so2\", \"Concentration\": 4.71}, {\"dt\": \"2022-02-02T00:00:00\", \"Pollutants\": \"so2\", \"Concentration\": 4.05}, {\"dt\": \"2022-02-02T01:00:00\", \"Pollutants\": \"so2\", \"Concentration\": 3.4}, {\"dt\": \"2022-02-02T02:00:00\", \"Pollutants\": \"so2\", \"Concentration\": 3.13}, {\"dt\": \"2022-02-02T03:00:00\", \"Pollutants\": \"so2\", \"Concentration\": 3.28}, {\"dt\": \"2022-02-02T04:00:00\", \"Pollutants\": \"so2\", \"Concentration\": 4.29}, {\"dt\": \"2022-02-02T05:00:00\", \"Pollutants\": \"so2\", \"Concentration\": 5.9}, {\"dt\": \"2022-02-02T06:00:00\", \"Pollutants\": \"so2\", \"Concentration\": 7.57}, {\"dt\": \"2022-02-02T07:00:00\", \"Pollutants\": \"so2\", \"Concentration\": 9.3}, {\"dt\": \"2022-02-02T08:00:00\", \"Pollutants\": \"so2\", \"Concentration\": 10.37}, {\"dt\": \"2022-02-02T09:00:00\", \"Pollutants\": \"so2\", \"Concentration\": 11.33}, {\"dt\": \"2022-02-02T10:00:00\", \"Pollutants\": \"so2\", \"Concentration\": 11.8}, {\"dt\": \"2022-02-02T11:00:00\", \"Pollutants\": \"so2\", \"Concentration\": 12.52}, {\"dt\": \"2022-02-02T12:00:00\", \"Pollutants\": \"so2\", \"Concentration\": 13.95}, {\"dt\": \"2022-02-02T13:00:00\", \"Pollutants\": \"so2\", \"Concentration\": 16.45}, {\"dt\": \"2022-02-02T14:00:00\", \"Pollutants\": \"so2\", \"Concentration\": 18.84}, {\"dt\": \"2022-02-02T15:00:00\", \"Pollutants\": \"so2\", \"Concentration\": 21.22}, {\"dt\": \"2022-02-02T16:00:00\", \"Pollutants\": \"so2\", \"Concentration\": 24.8}, {\"dt\": \"2022-02-02T17:00:00\", \"Pollutants\": \"so2\", \"Concentration\": 27.66}, {\"dt\": \"2022-02-02T18:00:00\", \"Pollutants\": \"so2\", \"Concentration\": 28.85}, {\"dt\": \"2022-02-02T19:00:00\", \"Pollutants\": \"so2\", \"Concentration\": 27.18}, {\"dt\": \"2022-02-02T20:00:00\", \"Pollutants\": \"so2\", \"Concentration\": 21.7}, {\"dt\": \"2022-02-02T21:00:00\", \"Pollutants\": \"so2\", \"Concentration\": 19.31}, {\"dt\": \"2022-02-02T22:00:00\", \"Pollutants\": \"so2\", \"Concentration\": 16.45}, {\"dt\": \"2022-02-02T23:00:00\", \"Pollutants\": \"so2\", \"Concentration\": 14.9}, {\"dt\": \"2022-02-03T00:00:00\", \"Pollutants\": \"so2\", \"Concentration\": 14.9}, {\"dt\": \"2022-01-29T18:00:00\", \"Pollutants\": \"pm2_5\", \"Concentration\": 8.81}, {\"dt\": \"2022-01-29T19:00:00\", \"Pollutants\": \"pm2_5\", \"Concentration\": 9.29}, {\"dt\": \"2022-01-29T20:00:00\", \"Pollutants\": \"pm2_5\", \"Concentration\": 9.92}, {\"dt\": \"2022-01-29T21:00:00\", \"Pollutants\": \"pm2_5\", \"Concentration\": 10.8}, {\"dt\": \"2022-01-29T22:00:00\", \"Pollutants\": \"pm2_5\", \"Concentration\": 10.77}, {\"dt\": \"2022-01-29T23:00:00\", \"Pollutants\": \"pm2_5\", \"Concentration\": 10.03}, {\"dt\": \"2022-01-30T00:00:00\", \"Pollutants\": \"pm2_5\", \"Concentration\": 9.13}, {\"dt\": \"2022-01-30T01:00:00\", \"Pollutants\": \"pm2_5\", \"Concentration\": 7.66}, {\"dt\": \"2022-01-30T02:00:00\", \"Pollutants\": \"pm2_5\", \"Concentration\": 6.16}, {\"dt\": \"2022-01-30T03:00:00\", \"Pollutants\": \"pm2_5\", \"Concentration\": 5.29}, {\"dt\": \"2022-01-30T04:00:00\", \"Pollutants\": \"pm2_5\", \"Concentration\": 4.86}, {\"dt\": \"2022-01-30T05:00:00\", \"Pollutants\": \"pm2_5\", \"Concentration\": 4.46}, {\"dt\": \"2022-01-30T06:00:00\", \"Pollutants\": \"pm2_5\", \"Concentration\": 4.25}, {\"dt\": \"2022-01-30T07:00:00\", \"Pollutants\": \"pm2_5\", \"Concentration\": 4.31}, {\"dt\": \"2022-01-30T08:00:00\", \"Pollutants\": \"pm2_5\", \"Concentration\": 4.69}, {\"dt\": \"2022-01-30T09:00:00\", \"Pollutants\": \"pm2_5\", \"Concentration\": 5.03}, {\"dt\": \"2022-01-30T10:00:00\", \"Pollutants\": \"pm2_5\", \"Concentration\": 5.02}, {\"dt\": \"2022-01-30T11:00:00\", \"Pollutants\": \"pm2_5\", \"Concentration\": 4.93}, {\"dt\": \"2022-01-30T12:00:00\", \"Pollutants\": \"pm2_5\", \"Concentration\": 4.77}, {\"dt\": \"2022-01-30T13:00:00\", \"Pollutants\": \"pm2_5\", \"Concentration\": 4.37}, {\"dt\": \"2022-01-30T14:00:00\", \"Pollutants\": \"pm2_5\", \"Concentration\": 3.95}, {\"dt\": \"2022-01-30T15:00:00\", \"Pollutants\": \"pm2_5\", \"Concentration\": 3.69}, {\"dt\": \"2022-01-30T16:00:00\", \"Pollutants\": \"pm2_5\", \"Concentration\": 3.79}, {\"dt\": \"2022-01-30T17:00:00\", \"Pollutants\": \"pm2_5\", \"Concentration\": 4.07}, {\"dt\": \"2022-01-30T18:00:00\", \"Pollutants\": \"pm2_5\", \"Concentration\": 4.34}, {\"dt\": \"2022-01-30T19:00:00\", \"Pollutants\": \"pm2_5\", \"Concentration\": 5.04}, {\"dt\": \"2022-01-30T20:00:00\", \"Pollutants\": \"pm2_5\", \"Concentration\": 6.43}, {\"dt\": \"2022-01-30T21:00:00\", \"Pollutants\": \"pm2_5\", \"Concentration\": 8.04}, {\"dt\": \"2022-01-30T22:00:00\", \"Pollutants\": \"pm2_5\", \"Concentration\": 8.98}, {\"dt\": \"2022-01-30T23:00:00\", \"Pollutants\": \"pm2_5\", \"Concentration\": 7.2}, {\"dt\": \"2022-01-31T00:00:00\", \"Pollutants\": \"pm2_5\", \"Concentration\": 3.73}, {\"dt\": \"2022-01-31T01:00:00\", \"Pollutants\": \"pm2_5\", \"Concentration\": 2.41}, {\"dt\": \"2022-01-31T02:00:00\", \"Pollutants\": \"pm2_5\", \"Concentration\": 1.34}, {\"dt\": \"2022-01-31T03:00:00\", \"Pollutants\": \"pm2_5\", \"Concentration\": 0.78}, {\"dt\": \"2022-01-31T04:00:00\", \"Pollutants\": \"pm2_5\", \"Concentration\": 0.56}, {\"dt\": \"2022-01-31T05:00:00\", \"Pollutants\": \"pm2_5\", \"Concentration\": 0.5}, {\"dt\": \"2022-01-31T06:00:00\", \"Pollutants\": \"pm2_5\", \"Concentration\": 0.5}, {\"dt\": \"2022-01-31T07:00:00\", \"Pollutants\": \"pm2_5\", \"Concentration\": 0.51}, {\"dt\": \"2022-01-31T08:00:00\", \"Pollutants\": \"pm2_5\", \"Concentration\": 0.5}, {\"dt\": \"2022-01-31T09:00:00\", \"Pollutants\": \"pm2_5\", \"Concentration\": 0.61}, {\"dt\": \"2022-01-31T10:00:00\", \"Pollutants\": \"pm2_5\", \"Concentration\": 0.82}, {\"dt\": \"2022-01-31T11:00:00\", \"Pollutants\": \"pm2_5\", \"Concentration\": 1.02}, {\"dt\": \"2022-01-31T12:00:00\", \"Pollutants\": \"pm2_5\", \"Concentration\": 1.27}, {\"dt\": \"2022-01-31T13:00:00\", \"Pollutants\": \"pm2_5\", \"Concentration\": 1.63}, {\"dt\": \"2022-01-31T14:00:00\", \"Pollutants\": \"pm2_5\", \"Concentration\": 1.91}, {\"dt\": \"2022-01-31T15:00:00\", \"Pollutants\": \"pm2_5\", \"Concentration\": 2.03}, {\"dt\": \"2022-01-31T16:00:00\", \"Pollutants\": \"pm2_5\", \"Concentration\": 2.25}, {\"dt\": \"2022-01-31T17:00:00\", \"Pollutants\": \"pm2_5\", \"Concentration\": 2.5}, {\"dt\": \"2022-01-31T18:00:00\", \"Pollutants\": \"pm2_5\", \"Concentration\": 2.61}, {\"dt\": \"2022-01-31T19:00:00\", \"Pollutants\": \"pm2_5\", \"Concentration\": 2.45}, {\"dt\": \"2022-01-31T20:00:00\", \"Pollutants\": \"pm2_5\", \"Concentration\": 2.1}, {\"dt\": \"2022-01-31T21:00:00\", \"Pollutants\": \"pm2_5\", \"Concentration\": 1.68}, {\"dt\": \"2022-01-31T22:00:00\", \"Pollutants\": \"pm2_5\", \"Concentration\": 1.03}, {\"dt\": \"2022-01-31T23:00:00\", \"Pollutants\": \"pm2_5\", \"Concentration\": 0.64}, {\"dt\": \"2022-02-01T00:00:00\", \"Pollutants\": \"pm2_5\", \"Concentration\": 0.57}, {\"dt\": \"2022-02-01T01:00:00\", \"Pollutants\": \"pm2_5\", \"Concentration\": 0.66}, {\"dt\": \"2022-02-01T02:00:00\", \"Pollutants\": \"pm2_5\", \"Concentration\": 0.78}, {\"dt\": \"2022-02-01T03:00:00\", \"Pollutants\": \"pm2_5\", \"Concentration\": 0.91}, {\"dt\": \"2022-02-01T04:00:00\", \"Pollutants\": \"pm2_5\", \"Concentration\": 1.13}, {\"dt\": \"2022-02-01T05:00:00\", \"Pollutants\": \"pm2_5\", \"Concentration\": 1.43}, {\"dt\": \"2022-02-01T06:00:00\", \"Pollutants\": \"pm2_5\", \"Concentration\": 1.88}, {\"dt\": \"2022-02-01T07:00:00\", \"Pollutants\": \"pm2_5\", \"Concentration\": 2.45}, {\"dt\": \"2022-02-01T08:00:00\", \"Pollutants\": \"pm2_5\", \"Concentration\": 3.31}, {\"dt\": \"2022-02-01T09:00:00\", \"Pollutants\": \"pm2_5\", \"Concentration\": 4.64}, {\"dt\": \"2022-02-01T10:00:00\", \"Pollutants\": \"pm2_5\", \"Concentration\": 5.82}, {\"dt\": \"2022-02-01T11:00:00\", \"Pollutants\": \"pm2_5\", \"Concentration\": 6.67}, {\"dt\": \"2022-02-01T12:00:00\", \"Pollutants\": \"pm2_5\", \"Concentration\": 7.47}, {\"dt\": \"2022-02-01T13:00:00\", \"Pollutants\": \"pm2_5\", \"Concentration\": 7.78}, {\"dt\": \"2022-02-01T14:00:00\", \"Pollutants\": \"pm2_5\", \"Concentration\": 7.74}, {\"dt\": \"2022-02-01T15:00:00\", \"Pollutants\": \"pm2_5\", \"Concentration\": 7.65}, {\"dt\": \"2022-02-01T16:00:00\", \"Pollutants\": \"pm2_5\", \"Concentration\": 8.2}, {\"dt\": \"2022-02-01T17:00:00\", \"Pollutants\": \"pm2_5\", \"Concentration\": 8.29}, {\"dt\": \"2022-02-01T18:00:00\", \"Pollutants\": \"pm2_5\", \"Concentration\": 7.56}, {\"dt\": \"2022-02-01T19:00:00\", \"Pollutants\": \"pm2_5\", \"Concentration\": 7.11}, {\"dt\": \"2022-02-01T20:00:00\", \"Pollutants\": \"pm2_5\", \"Concentration\": 7.25}, {\"dt\": \"2022-02-01T21:00:00\", \"Pollutants\": \"pm2_5\", \"Concentration\": 7.57}, {\"dt\": \"2022-02-01T22:00:00\", \"Pollutants\": \"pm2_5\", \"Concentration\": 6.89}, {\"dt\": \"2022-02-01T23:00:00\", \"Pollutants\": \"pm2_5\", \"Concentration\": 5.09}, {\"dt\": \"2022-02-02T00:00:00\", \"Pollutants\": \"pm2_5\", \"Concentration\": 3.5}, {\"dt\": \"2022-02-02T01:00:00\", \"Pollutants\": \"pm2_5\", \"Concentration\": 2.5}, {\"dt\": \"2022-02-02T02:00:00\", \"Pollutants\": \"pm2_5\", \"Concentration\": 2.09}, {\"dt\": \"2022-02-02T03:00:00\", \"Pollutants\": \"pm2_5\", \"Concentration\": 2.07}, {\"dt\": \"2022-02-02T04:00:00\", \"Pollutants\": \"pm2_5\", \"Concentration\": 2.53}, {\"dt\": \"2022-02-02T05:00:00\", \"Pollutants\": \"pm2_5\", \"Concentration\": 3.43}, {\"dt\": \"2022-02-02T06:00:00\", \"Pollutants\": \"pm2_5\", \"Concentration\": 4.66}, {\"dt\": \"2022-02-02T07:00:00\", \"Pollutants\": \"pm2_5\", \"Concentration\": 5.94}, {\"dt\": \"2022-02-02T08:00:00\", \"Pollutants\": \"pm2_5\", \"Concentration\": 7.19}, {\"dt\": \"2022-02-02T09:00:00\", \"Pollutants\": \"pm2_5\", \"Concentration\": 8.69}, {\"dt\": \"2022-02-02T10:00:00\", \"Pollutants\": \"pm2_5\", \"Concentration\": 9.88}, {\"dt\": \"2022-02-02T11:00:00\", \"Pollutants\": \"pm2_5\", \"Concentration\": 11.2}, {\"dt\": \"2022-02-02T12:00:00\", \"Pollutants\": \"pm2_5\", \"Concentration\": 13.21}, {\"dt\": \"2022-02-02T13:00:00\", \"Pollutants\": \"pm2_5\", \"Concentration\": 15.66}, {\"dt\": \"2022-02-02T14:00:00\", \"Pollutants\": \"pm2_5\", \"Concentration\": 17.72}, {\"dt\": \"2022-02-02T15:00:00\", \"Pollutants\": \"pm2_5\", \"Concentration\": 19.43}, {\"dt\": \"2022-02-02T16:00:00\", \"Pollutants\": \"pm2_5\", \"Concentration\": 22.11}, {\"dt\": \"2022-02-02T17:00:00\", \"Pollutants\": \"pm2_5\", \"Concentration\": 24.71}, {\"dt\": \"2022-02-02T18:00:00\", \"Pollutants\": \"pm2_5\", \"Concentration\": 26.99}, {\"dt\": \"2022-02-02T19:00:00\", \"Pollutants\": \"pm2_5\", \"Concentration\": 24.12}, {\"dt\": \"2022-02-02T20:00:00\", \"Pollutants\": \"pm2_5\", \"Concentration\": 22.37}, {\"dt\": \"2022-02-02T21:00:00\", \"Pollutants\": \"pm2_5\", \"Concentration\": 21.64}, {\"dt\": \"2022-02-02T22:00:00\", \"Pollutants\": \"pm2_5\", \"Concentration\": 21.99}, {\"dt\": \"2022-02-02T23:00:00\", \"Pollutants\": \"pm2_5\", \"Concentration\": 23.26}, {\"dt\": \"2022-02-03T00:00:00\", \"Pollutants\": \"pm2_5\", \"Concentration\": 23.08}, {\"dt\": \"2022-01-29T18:00:00\", \"Pollutants\": \"pm10\", \"Concentration\": 15.22}, {\"dt\": \"2022-01-29T19:00:00\", \"Pollutants\": \"pm10\", \"Concentration\": 14.85}, {\"dt\": \"2022-01-29T20:00:00\", \"Pollutants\": \"pm10\", \"Concentration\": 16.11}, {\"dt\": \"2022-01-29T21:00:00\", \"Pollutants\": \"pm10\", \"Concentration\": 17.34}, {\"dt\": \"2022-01-29T22:00:00\", \"Pollutants\": \"pm10\", \"Concentration\": 16.84}, {\"dt\": \"2022-01-29T23:00:00\", \"Pollutants\": \"pm10\", \"Concentration\": 15.41}, {\"dt\": \"2022-01-30T00:00:00\", \"Pollutants\": \"pm10\", \"Concentration\": 13.99}, {\"dt\": \"2022-01-30T01:00:00\", \"Pollutants\": \"pm10\", \"Concentration\": 11.7}, {\"dt\": \"2022-01-30T02:00:00\", \"Pollutants\": \"pm10\", \"Concentration\": 9.47}, {\"dt\": \"2022-01-30T03:00:00\", \"Pollutants\": \"pm10\", \"Concentration\": 8.3}, {\"dt\": \"2022-01-30T04:00:00\", \"Pollutants\": \"pm10\", \"Concentration\": 7.7}, {\"dt\": \"2022-01-30T05:00:00\", \"Pollutants\": \"pm10\", \"Concentration\": 7.04}, {\"dt\": \"2022-01-30T06:00:00\", \"Pollutants\": \"pm10\", \"Concentration\": 6.55}, {\"dt\": \"2022-01-30T07:00:00\", \"Pollutants\": \"pm10\", \"Concentration\": 6.21}, {\"dt\": \"2022-01-30T08:00:00\", \"Pollutants\": \"pm10\", \"Concentration\": 5.98}, {\"dt\": \"2022-01-30T09:00:00\", \"Pollutants\": \"pm10\", \"Concentration\": 5.9}, {\"dt\": \"2022-01-30T10:00:00\", \"Pollutants\": \"pm10\", \"Concentration\": 5.73}, {\"dt\": \"2022-01-30T11:00:00\", \"Pollutants\": \"pm10\", \"Concentration\": 5.62}, {\"dt\": \"2022-01-30T12:00:00\", \"Pollutants\": \"pm10\", \"Concentration\": 5.5}, {\"dt\": \"2022-01-30T13:00:00\", \"Pollutants\": \"pm10\", \"Concentration\": 5.11}, {\"dt\": \"2022-01-30T14:00:00\", \"Pollutants\": \"pm10\", \"Concentration\": 4.77}, {\"dt\": \"2022-01-30T15:00:00\", \"Pollutants\": \"pm10\", \"Concentration\": 5.0}, {\"dt\": \"2022-01-30T16:00:00\", \"Pollutants\": \"pm10\", \"Concentration\": 5.67}, {\"dt\": \"2022-01-30T17:00:00\", \"Pollutants\": \"pm10\", \"Concentration\": 6.39}, {\"dt\": \"2022-01-30T18:00:00\", \"Pollutants\": \"pm10\", \"Concentration\": 6.68}, {\"dt\": \"2022-01-30T19:00:00\", \"Pollutants\": \"pm10\", \"Concentration\": 7.73}, {\"dt\": \"2022-01-30T20:00:00\", \"Pollutants\": \"pm10\", \"Concentration\": 9.8}, {\"dt\": \"2022-01-30T21:00:00\", \"Pollutants\": \"pm10\", \"Concentration\": 12.51}, {\"dt\": \"2022-01-30T22:00:00\", \"Pollutants\": \"pm10\", \"Concentration\": 14.05}, {\"dt\": \"2022-01-30T23:00:00\", \"Pollutants\": \"pm10\", \"Concentration\": 10.53}, {\"dt\": \"2022-01-31T00:00:00\", \"Pollutants\": \"pm10\", \"Concentration\": 4.83}, {\"dt\": \"2022-01-31T01:00:00\", \"Pollutants\": \"pm10\", \"Concentration\": 3.04}, {\"dt\": \"2022-01-31T02:00:00\", \"Pollutants\": \"pm10\", \"Concentration\": 2.15}, {\"dt\": \"2022-01-31T03:00:00\", \"Pollutants\": \"pm10\", \"Concentration\": 1.85}, {\"dt\": \"2022-01-31T04:00:00\", \"Pollutants\": \"pm10\", \"Concentration\": 2.21}, {\"dt\": \"2022-01-31T05:00:00\", \"Pollutants\": \"pm10\", \"Concentration\": 2.68}, {\"dt\": \"2022-01-31T06:00:00\", \"Pollutants\": \"pm10\", \"Concentration\": 2.97}, {\"dt\": \"2022-01-31T07:00:00\", \"Pollutants\": \"pm10\", \"Concentration\": 2.87}, {\"dt\": \"2022-01-31T08:00:00\", \"Pollutants\": \"pm10\", \"Concentration\": 2.19}, {\"dt\": \"2022-01-31T09:00:00\", \"Pollutants\": \"pm10\", \"Concentration\": 2.16}, {\"dt\": \"2022-01-31T10:00:00\", \"Pollutants\": \"pm10\", \"Concentration\": 2.44}, {\"dt\": \"2022-01-31T11:00:00\", \"Pollutants\": \"pm10\", \"Concentration\": 2.83}, {\"dt\": \"2022-01-31T12:00:00\", \"Pollutants\": \"pm10\", \"Concentration\": 3.43}, {\"dt\": \"2022-01-31T13:00:00\", \"Pollutants\": \"pm10\", \"Concentration\": 4.11}, {\"dt\": \"2022-01-31T14:00:00\", \"Pollutants\": \"pm10\", \"Concentration\": 4.74}, {\"dt\": \"2022-01-31T15:00:00\", \"Pollutants\": \"pm10\", \"Concentration\": 6.34}, {\"dt\": \"2022-01-31T16:00:00\", \"Pollutants\": \"pm10\", \"Concentration\": 8.95}, {\"dt\": \"2022-01-31T17:00:00\", \"Pollutants\": \"pm10\", \"Concentration\": 11.06}, {\"dt\": \"2022-01-31T18:00:00\", \"Pollutants\": \"pm10\", \"Concentration\": 11.76}, {\"dt\": \"2022-01-31T19:00:00\", \"Pollutants\": \"pm10\", \"Concentration\": 11.02}, {\"dt\": \"2022-01-31T20:00:00\", \"Pollutants\": \"pm10\", \"Concentration\": 9.51}, {\"dt\": \"2022-01-31T21:00:00\", \"Pollutants\": \"pm10\", \"Concentration\": 7.87}, {\"dt\": \"2022-01-31T22:00:00\", \"Pollutants\": \"pm10\", \"Concentration\": 5.47}, {\"dt\": \"2022-01-31T23:00:00\", \"Pollutants\": \"pm10\", \"Concentration\": 4.08}, {\"dt\": \"2022-02-01T00:00:00\", \"Pollutants\": \"pm10\", \"Concentration\": 3.8}, {\"dt\": \"2022-02-01T01:00:00\", \"Pollutants\": \"pm10\", \"Concentration\": 4.14}, {\"dt\": \"2022-02-01T02:00:00\", \"Pollutants\": \"pm10\", \"Concentration\": 4.91}, {\"dt\": \"2022-02-01T03:00:00\", \"Pollutants\": \"pm10\", \"Concentration\": 5.98}, {\"dt\": \"2022-02-01T04:00:00\", \"Pollutants\": \"pm10\", \"Concentration\": 7.83}, {\"dt\": \"2022-02-01T05:00:00\", \"Pollutants\": \"pm10\", \"Concentration\": 9.41}, {\"dt\": \"2022-02-01T06:00:00\", \"Pollutants\": \"pm10\", \"Concentration\": 10.67}, {\"dt\": \"2022-02-01T07:00:00\", \"Pollutants\": \"pm10\", \"Concentration\": 12.17}, {\"dt\": \"2022-02-01T08:00:00\", \"Pollutants\": \"pm10\", \"Concentration\": 14.08}, {\"dt\": \"2022-02-01T09:00:00\", \"Pollutants\": \"pm10\", \"Concentration\": 16.7}, {\"dt\": \"2022-02-01T10:00:00\", \"Pollutants\": \"pm10\", \"Concentration\": 17.76}, {\"dt\": \"2022-02-01T11:00:00\", \"Pollutants\": \"pm10\", \"Concentration\": 17.68}, {\"dt\": \"2022-02-01T12:00:00\", \"Pollutants\": \"pm10\", \"Concentration\": 17.79}, {\"dt\": \"2022-02-01T13:00:00\", \"Pollutants\": \"pm10\", \"Concentration\": 17.16}, {\"dt\": \"2022-02-01T14:00:00\", \"Pollutants\": \"pm10\", \"Concentration\": 16.18}, {\"dt\": \"2022-02-01T15:00:00\", \"Pollutants\": \"pm10\", \"Concentration\": 16.68}, {\"dt\": \"2022-02-01T16:00:00\", \"Pollutants\": \"pm10\", \"Concentration\": 18.39}, {\"dt\": \"2022-02-01T17:00:00\", \"Pollutants\": \"pm10\", \"Concentration\": 18.47}, {\"dt\": \"2022-02-01T18:00:00\", \"Pollutants\": \"pm10\", \"Concentration\": 16.91}, {\"dt\": \"2022-02-01T19:00:00\", \"Pollutants\": \"pm10\", \"Concentration\": 15.3}, {\"dt\": \"2022-02-01T20:00:00\", \"Pollutants\": \"pm10\", \"Concentration\": 16.25}, {\"dt\": \"2022-02-01T21:00:00\", \"Pollutants\": \"pm10\", \"Concentration\": 17.74}, {\"dt\": \"2022-02-01T22:00:00\", \"Pollutants\": \"pm10\", \"Concentration\": 16.71}, {\"dt\": \"2022-02-01T23:00:00\", \"Pollutants\": \"pm10\", \"Concentration\": 13.18}, {\"dt\": \"2022-02-02T00:00:00\", \"Pollutants\": \"pm10\", \"Concentration\": 9.96}, {\"dt\": \"2022-02-02T01:00:00\", \"Pollutants\": \"pm10\", \"Concentration\": 8.1}, {\"dt\": \"2022-02-02T02:00:00\", \"Pollutants\": \"pm10\", \"Concentration\": 7.82}, {\"dt\": \"2022-02-02T03:00:00\", \"Pollutants\": \"pm10\", \"Concentration\": 8.79}, {\"dt\": \"2022-02-02T04:00:00\", \"Pollutants\": \"pm10\", \"Concentration\": 11.34}, {\"dt\": \"2022-02-02T05:00:00\", \"Pollutants\": \"pm10\", \"Concentration\": 14.34}, {\"dt\": \"2022-02-02T06:00:00\", \"Pollutants\": \"pm10\", \"Concentration\": 17.3}, {\"dt\": \"2022-02-02T07:00:00\", \"Pollutants\": \"pm10\", \"Concentration\": 19.98}, {\"dt\": \"2022-02-02T08:00:00\", \"Pollutants\": \"pm10\", \"Concentration\": 21.46}, {\"dt\": \"2022-02-02T09:00:00\", \"Pollutants\": \"pm10\", \"Concentration\": 22.6}, {\"dt\": \"2022-02-02T10:00:00\", \"Pollutants\": \"pm10\", \"Concentration\": 23.21}, {\"dt\": \"2022-02-02T11:00:00\", \"Pollutants\": \"pm10\", \"Concentration\": 24.06}, {\"dt\": \"2022-02-02T12:00:00\", \"Pollutants\": \"pm10\", \"Concentration\": 25.96}, {\"dt\": \"2022-02-02T13:00:00\", \"Pollutants\": \"pm10\", \"Concentration\": 27.71}, {\"dt\": \"2022-02-02T14:00:00\", \"Pollutants\": \"pm10\", \"Concentration\": 29.19}, {\"dt\": \"2022-02-02T15:00:00\", \"Pollutants\": \"pm10\", \"Concentration\": 32.19}, {\"dt\": \"2022-02-02T16:00:00\", \"Pollutants\": \"pm10\", \"Concentration\": 36.85}, {\"dt\": \"2022-02-02T17:00:00\", \"Pollutants\": \"pm10\", \"Concentration\": 40.62}, {\"dt\": \"2022-02-02T18:00:00\", \"Pollutants\": \"pm10\", \"Concentration\": 42.9}, {\"dt\": \"2022-02-02T19:00:00\", \"Pollutants\": \"pm10\", \"Concentration\": 29.26}, {\"dt\": \"2022-02-02T20:00:00\", \"Pollutants\": \"pm10\", \"Concentration\": 26.7}, {\"dt\": \"2022-02-02T21:00:00\", \"Pollutants\": \"pm10\", \"Concentration\": 25.73}, {\"dt\": \"2022-02-02T22:00:00\", \"Pollutants\": \"pm10\", \"Concentration\": 26.43}, {\"dt\": \"2022-02-02T23:00:00\", \"Pollutants\": \"pm10\", \"Concentration\": 28.46}, {\"dt\": \"2022-02-03T00:00:00\", \"Pollutants\": \"pm10\", \"Concentration\": 28.57}, {\"dt\": \"2022-01-29T18:00:00\", \"Pollutants\": \"nh3\", \"Concentration\": 0.96}, {\"dt\": \"2022-01-29T19:00:00\", \"Pollutants\": \"nh3\", \"Concentration\": 0.86}, {\"dt\": \"2022-01-29T20:00:00\", \"Pollutants\": \"nh3\", \"Concentration\": 1.08}, {\"dt\": \"2022-01-29T21:00:00\", \"Pollutants\": \"nh3\", \"Concentration\": 1.17}, {\"dt\": \"2022-01-29T22:00:00\", \"Pollutants\": \"nh3\", \"Concentration\": 1.05}, {\"dt\": \"2022-01-29T23:00:00\", \"Pollutants\": \"nh3\", \"Concentration\": 0.95}, {\"dt\": \"2022-01-30T00:00:00\", \"Pollutants\": \"nh3\", \"Concentration\": 0.89}, {\"dt\": \"2022-01-30T01:00:00\", \"Pollutants\": \"nh3\", \"Concentration\": 0.76}, {\"dt\": \"2022-01-30T02:00:00\", \"Pollutants\": \"nh3\", \"Concentration\": 0.52}, {\"dt\": \"2022-01-30T03:00:00\", \"Pollutants\": \"nh3\", \"Concentration\": 0.39}, {\"dt\": \"2022-01-30T04:00:00\", \"Pollutants\": \"nh3\", \"Concentration\": 0.33}, {\"dt\": \"2022-01-30T05:00:00\", \"Pollutants\": \"nh3\", \"Concentration\": 0.29}, {\"dt\": \"2022-01-30T06:00:00\", \"Pollutants\": \"nh3\", \"Concentration\": 0.26}, {\"dt\": \"2022-01-30T07:00:00\", \"Pollutants\": \"nh3\", \"Concentration\": 0.24}, {\"dt\": \"2022-01-30T08:00:00\", \"Pollutants\": \"nh3\", \"Concentration\": 0.21}, {\"dt\": \"2022-01-30T09:00:00\", \"Pollutants\": \"nh3\", \"Concentration\": 0.19}, {\"dt\": \"2022-01-30T10:00:00\", \"Pollutants\": \"nh3\", \"Concentration\": 0.18}, {\"dt\": \"2022-01-30T11:00:00\", \"Pollutants\": \"nh3\", \"Concentration\": 0.2}, {\"dt\": \"2022-01-30T12:00:00\", \"Pollutants\": \"nh3\", \"Concentration\": 0.22}, {\"dt\": \"2022-01-30T13:00:00\", \"Pollutants\": \"nh3\", \"Concentration\": 0.23}, {\"dt\": \"2022-01-30T14:00:00\", \"Pollutants\": \"nh3\", \"Concentration\": 0.23}, {\"dt\": \"2022-01-30T15:00:00\", \"Pollutants\": \"nh3\", \"Concentration\": 0.27}, {\"dt\": \"2022-01-30T16:00:00\", \"Pollutants\": \"nh3\", \"Concentration\": 0.35}, {\"dt\": \"2022-01-30T17:00:00\", \"Pollutants\": \"nh3\", \"Concentration\": 0.39}, {\"dt\": \"2022-01-30T18:00:00\", \"Pollutants\": \"nh3\", \"Concentration\": 0.4}, {\"dt\": \"2022-01-30T19:00:00\", \"Pollutants\": \"nh3\", \"Concentration\": 0.5}, {\"dt\": \"2022-01-30T20:00:00\", \"Pollutants\": \"nh3\", \"Concentration\": 0.69}, {\"dt\": \"2022-01-30T21:00:00\", \"Pollutants\": \"nh3\", \"Concentration\": 1.0}, {\"dt\": \"2022-01-30T22:00:00\", \"Pollutants\": \"nh3\", \"Concentration\": 0.97}, {\"dt\": \"2022-01-30T23:00:00\", \"Pollutants\": \"nh3\", \"Concentration\": 0.38}, {\"dt\": \"2022-01-31T00:00:00\", \"Pollutants\": \"nh3\", \"Concentration\": 0.17}, {\"dt\": \"2022-01-31T01:00:00\", \"Pollutants\": \"nh3\", \"Concentration\": 0.11}, {\"dt\": \"2022-01-31T02:00:00\", \"Pollutants\": \"nh3\", \"Concentration\": 0.14}, {\"dt\": \"2022-01-31T03:00:00\", \"Pollutants\": \"nh3\", \"Concentration\": 0.16}, {\"dt\": \"2022-01-31T04:00:00\", \"Pollutants\": \"nh3\", \"Concentration\": 0.22}, {\"dt\": \"2022-01-31T05:00:00\", \"Pollutants\": \"nh3\", \"Concentration\": 0.27}, {\"dt\": \"2022-01-31T06:00:00\", \"Pollutants\": \"nh3\", \"Concentration\": 0.44}, {\"dt\": \"2022-01-31T07:00:00\", \"Pollutants\": \"nh3\", \"Concentration\": 0.57}, {\"dt\": \"2022-01-31T08:00:00\", \"Pollutants\": \"nh3\", \"Concentration\": 0.59}, {\"dt\": \"2022-01-31T09:00:00\", \"Pollutants\": \"nh3\", \"Concentration\": 0.66}, {\"dt\": \"2022-01-31T10:00:00\", \"Pollutants\": \"nh3\", \"Concentration\": 0.71}, {\"dt\": \"2022-01-31T11:00:00\", \"Pollutants\": \"nh3\", \"Concentration\": 0.82}, {\"dt\": \"2022-01-31T12:00:00\", \"Pollutants\": \"nh3\", \"Concentration\": 1.01}, {\"dt\": \"2022-01-31T13:00:00\", \"Pollutants\": \"nh3\", \"Concentration\": 1.2}, {\"dt\": \"2022-01-31T14:00:00\", \"Pollutants\": \"nh3\", \"Concentration\": 1.33}, {\"dt\": \"2022-01-31T15:00:00\", \"Pollutants\": \"nh3\", \"Concentration\": 1.55}, {\"dt\": \"2022-01-31T16:00:00\", \"Pollutants\": \"nh3\", \"Concentration\": 2.12}, {\"dt\": \"2022-01-31T17:00:00\", \"Pollutants\": \"nh3\", \"Concentration\": 2.53}, {\"dt\": \"2022-01-31T18:00:00\", \"Pollutants\": \"nh3\", \"Concentration\": 2.53}, {\"dt\": \"2022-01-31T19:00:00\", \"Pollutants\": \"nh3\", \"Concentration\": 2.38}, {\"dt\": \"2022-01-31T20:00:00\", \"Pollutants\": \"nh3\", \"Concentration\": 2.09}, {\"dt\": \"2022-01-31T21:00:00\", \"Pollutants\": \"nh3\", \"Concentration\": 1.82}, {\"dt\": \"2022-01-31T22:00:00\", \"Pollutants\": \"nh3\", \"Concentration\": 1.31}, {\"dt\": \"2022-01-31T23:00:00\", \"Pollutants\": \"nh3\", \"Concentration\": 1.08}, {\"dt\": \"2022-02-01T00:00:00\", \"Pollutants\": \"nh3\", \"Concentration\": 1.09}, {\"dt\": \"2022-02-01T01:00:00\", \"Pollutants\": \"nh3\", \"Concentration\": 1.88}, {\"dt\": \"2022-02-01T02:00:00\", \"Pollutants\": \"nh3\", \"Concentration\": 2.6}, {\"dt\": \"2022-02-01T03:00:00\", \"Pollutants\": \"nh3\", \"Concentration\": 2.91}, {\"dt\": \"2022-02-01T04:00:00\", \"Pollutants\": \"nh3\", \"Concentration\": 3.48}, {\"dt\": \"2022-02-01T05:00:00\", \"Pollutants\": \"nh3\", \"Concentration\": 4.05}, {\"dt\": \"2022-02-01T06:00:00\", \"Pollutants\": \"nh3\", \"Concentration\": 4.37}, {\"dt\": \"2022-02-01T07:00:00\", \"Pollutants\": \"nh3\", \"Concentration\": 3.45}, {\"dt\": \"2022-02-01T08:00:00\", \"Pollutants\": \"nh3\", \"Concentration\": 5.26}, {\"dt\": \"2022-02-01T09:00:00\", \"Pollutants\": \"nh3\", \"Concentration\": 7.35}, {\"dt\": \"2022-02-01T10:00:00\", \"Pollutants\": \"nh3\", \"Concentration\": 8.61}, {\"dt\": \"2022-02-01T11:00:00\", \"Pollutants\": \"nh3\", \"Concentration\": 9.25}, {\"dt\": \"2022-02-01T12:00:00\", \"Pollutants\": \"nh3\", \"Concentration\": 9.88}, {\"dt\": \"2022-02-01T13:00:00\", \"Pollutants\": \"nh3\", \"Concentration\": 9.88}, {\"dt\": \"2022-02-01T14:00:00\", \"Pollutants\": \"nh3\", \"Concentration\": 9.12}, {\"dt\": \"2022-02-01T15:00:00\", \"Pollutants\": \"nh3\", \"Concentration\": 8.36}, {\"dt\": \"2022-02-01T16:00:00\", \"Pollutants\": \"nh3\", \"Concentration\": 7.41}, {\"dt\": \"2022-02-01T17:00:00\", \"Pollutants\": \"nh3\", \"Concentration\": 6.27}, {\"dt\": \"2022-02-01T18:00:00\", \"Pollutants\": \"nh3\", \"Concentration\": 4.88}, {\"dt\": \"2022-02-01T19:00:00\", \"Pollutants\": \"nh3\", \"Concentration\": 2.91}, {\"dt\": \"2022-02-01T20:00:00\", \"Pollutants\": \"nh3\", \"Concentration\": 2.95}, {\"dt\": \"2022-02-01T21:00:00\", \"Pollutants\": \"nh3\", \"Concentration\": 3.55}, {\"dt\": \"2022-02-01T22:00:00\", \"Pollutants\": \"nh3\", \"Concentration\": 3.74}, {\"dt\": \"2022-02-01T23:00:00\", \"Pollutants\": \"nh3\", \"Concentration\": 3.48}, {\"dt\": \"2022-02-02T00:00:00\", \"Pollutants\": \"nh3\", \"Concentration\": 3.26}, {\"dt\": \"2022-02-02T01:00:00\", \"Pollutants\": \"nh3\", \"Concentration\": 3.26}, {\"dt\": \"2022-02-02T02:00:00\", \"Pollutants\": \"nh3\", \"Concentration\": 3.39}, {\"dt\": \"2022-02-02T03:00:00\", \"Pollutants\": \"nh3\", \"Concentration\": 3.45}, {\"dt\": \"2022-02-02T04:00:00\", \"Pollutants\": \"nh3\", \"Concentration\": 4.31}, {\"dt\": \"2022-02-02T05:00:00\", \"Pollutants\": \"nh3\", \"Concentration\": 5.83}, {\"dt\": \"2022-02-02T06:00:00\", \"Pollutants\": \"nh3\", \"Concentration\": 7.47}, {\"dt\": \"2022-02-02T07:00:00\", \"Pollutants\": \"nh3\", \"Concentration\": 9.5}, {\"dt\": \"2022-02-02T08:00:00\", \"Pollutants\": \"nh3\", \"Concentration\": 11.53}, {\"dt\": \"2022-02-02T09:00:00\", \"Pollutants\": \"nh3\", \"Concentration\": 13.17}, {\"dt\": \"2022-02-02T10:00:00\", \"Pollutants\": \"nh3\", \"Concentration\": 13.93}, {\"dt\": \"2022-02-02T11:00:00\", \"Pollutants\": \"nh3\", \"Concentration\": 14.69}, {\"dt\": \"2022-02-02T12:00:00\", \"Pollutants\": \"nh3\", \"Concentration\": 15.2}, {\"dt\": \"2022-02-02T13:00:00\", \"Pollutants\": \"nh3\", \"Concentration\": 14.57}, {\"dt\": \"2022-02-02T14:00:00\", \"Pollutants\": \"nh3\", \"Concentration\": 13.55}, {\"dt\": \"2022-02-02T15:00:00\", \"Pollutants\": \"nh3\", \"Concentration\": 13.55}, {\"dt\": \"2022-02-02T16:00:00\", \"Pollutants\": \"nh3\", \"Concentration\": 14.06}, {\"dt\": \"2022-02-02T17:00:00\", \"Pollutants\": \"nh3\", \"Concentration\": 14.06}, {\"dt\": \"2022-02-02T18:00:00\", \"Pollutants\": \"nh3\", \"Concentration\": 12.67}, {\"dt\": \"2022-02-02T19:00:00\", \"Pollutants\": \"nh3\", \"Concentration\": 2.69}, {\"dt\": \"2022-02-02T20:00:00\", \"Pollutants\": \"nh3\", \"Concentration\": 1.71}, {\"dt\": \"2022-02-02T21:00:00\", \"Pollutants\": \"nh3\", \"Concentration\": 1.43}, {\"dt\": \"2022-02-02T22:00:00\", \"Pollutants\": \"nh3\", \"Concentration\": 1.39}, {\"dt\": \"2022-02-02T23:00:00\", \"Pollutants\": \"nh3\", \"Concentration\": 1.54}, {\"dt\": \"2022-02-03T00:00:00\", \"Pollutants\": \"nh3\", \"Concentration\": 1.95}]}}, {\"mode\": \"vega-lite\"});\n",
       "</script>"
      ],
      "text/plain": [
       "alt.FacetChart(...)"
      ]
     },
     "execution_count": 6,
     "metadata": {},
     "output_type": "execute_result"
    }
   ],
   "source": [
    "pollution_forecast = get_pollution_forecast(lat, lon, api_key)\n",
    "pollution_forecast"
   ]
  }
 ],
 "metadata": {
  "celltoolbar": "Tags",
  "kernelspec": {
   "display_name": "Python 3 (ipykernel)",
   "language": "python",
   "name": "python3"
  },
  "language_info": {
   "codemirror_mode": {
    "name": "ipython",
    "version": 3
   },
   "file_extension": ".py",
   "mimetype": "text/x-python",
   "name": "python",
   "nbconvert_exporter": "python",
   "pygments_lexer": "ipython3",
   "version": "3.9.9"
  }
 },
 "nbformat": 4,
 "nbformat_minor": 4
}
